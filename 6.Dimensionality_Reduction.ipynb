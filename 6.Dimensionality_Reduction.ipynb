{
 "cells": [
  {
   "cell_type": "markdown",
   "metadata": {},
   "source": [
    "# 6. Dimensionality Reduction\n",
    "I am following this interesting instruction for PCA: https://towardsdatascience.com/pca-using-python-scikit-learn-e653f8989e60"
   ]
  },
  {
   "cell_type": "code",
   "execution_count": 1,
   "metadata": {
    "collapsed": true
   },
   "outputs": [],
   "source": [
    "import numpy as np \n",
    "import matplotlib.pyplot as plt\n",
    "from scipy import stats\n",
    "import pandas as pd\n",
    "%matplotlib inline"
   ]
  },
  {
   "cell_type": "code",
   "execution_count": 2,
   "metadata": {},
   "outputs": [
    {
     "name": "stdout",
     "output_type": "stream",
     "text": [
      "   TotRmsAbvGrd  OpenPorchSF  MasVnrArea  OverallQual  1stFlrSF  HalfBath  \\\n",
      "0      1.118861     0.265956    0.598482     0.624599 -0.772228  1.305417   \n",
      "1     -0.260728    -0.735765   -0.597528    -0.103002  0.307004 -0.744557   \n",
      "2     -0.260728    -0.046056    0.391011     0.624599 -0.602103  1.305417   \n",
      "3      0.429067    -0.161007   -0.597528     0.624599 -0.493116 -0.744557   \n",
      "4      1.808656     0.643654    1.538204     1.352200 -0.004006  1.305417   \n",
      "\n",
      "    LotArea  GrLivArea  YearBuilt  2ndFlrSF  ...  Exterior2nd_2  \\\n",
      "0 -0.239668   0.517958   1.014529  1.297882  ...      -0.791427   \n",
      "1  0.048154  -0.465280   0.132142 -0.792681  ...      -0.791427   \n",
      "2  0.461116   0.684757   0.949167  1.327258  ...      -0.791427   \n",
      "3  0.035640   0.533321  -1.861401  1.057981  ...      -0.791427   \n",
      "4  1.214459   1.588985   0.916486  1.785027  ...      -0.791427   \n",
      "\n",
      "   Exterior2nd_3  Exterior2nd_4  MasVnrType_2  MasVnrType_3  Foundation_2  \\\n",
      "0      -0.801819       0.930886     -1.521307      1.233546     -1.074246   \n",
      "1       1.247165      -1.074246      0.657329     -0.810671      0.930886   \n",
      "2      -0.801819       0.930886     -1.521307      1.233546     -1.074246   \n",
      "3       1.247165       0.930886      0.657329     -0.810671      0.930886   \n",
      "4      -0.801819       0.930886     -1.521307      1.233546     -1.074246   \n",
      "\n",
      "   Foundation_3  GarageType_2  GarageType_3  SalePrice  \n",
      "0      0.860020     -0.787450      0.686475     208500  \n",
      "1     -1.162763     -0.787450      0.686475     181500  \n",
      "2      0.860020     -0.787450      0.686475     223500  \n",
      "3      0.860020      1.269922     -1.456717     140000  \n",
      "4      0.860020     -0.787450      0.686475     250000  \n",
      "\n",
      "[5 rows x 62 columns]\n"
     ]
    }
   ],
   "source": [
    "train_file = 'house-prices-advanced-regression-techniques/train_normalized.csv'\n",
    "train_df = pd.read_csv(train_file)\n",
    "test_file = 'house-prices-advanced-regression-techniques/test_normalized.csv'\n",
    "test_df = pd.read_csv(test_file)\n",
    "\n",
    "label_col = train_df['SalePrice']\n",
    "data_df = train_df.drop(['SalePrice'], axis=1)\n",
    "print(train_df.head())"
   ]
  },
  {
   "cell_type": "markdown",
   "metadata": {},
   "source": [
    "## Import and Apply PCA\n",
    "Notice the code below has .95 for the number of components parameter. It means that scikit-learn choose the minimum number of principal components such that 95% of the variance is retained."
   ]
  },
  {
   "cell_type": "code",
   "execution_count": 3,
   "metadata": {
    "collapsed": true
   },
   "outputs": [],
   "source": [
    "from sklearn.decomposition import PCA\n",
    "# Make an instance of the Model\n",
    "pca = PCA(.95)"
   ]
  },
  {
   "cell_type": "markdown",
   "metadata": {},
   "source": [
    "Fit PCA on training set. Note: you are fitting PCA on the training set only."
   ]
  },
  {
   "cell_type": "code",
   "execution_count": 4,
   "metadata": {},
   "outputs": [
    {
     "name": "stdout",
     "output_type": "stream",
     "text": [
      "40\n"
     ]
    }
   ],
   "source": [
    "pca.fit(data_df)\n",
    "print(pca.n_components_)"
   ]
  },
  {
   "cell_type": "markdown",
   "metadata": {},
   "source": [
    "Note: You can find out how many components PCA choose after fitting the model using pca.n_components_ . In this case, 95% of the variance amounts to 40 principal components."
   ]
  },
  {
   "cell_type": "code",
   "execution_count": 5,
   "metadata": {},
   "outputs": [
    {
     "name": "stdout",
     "output_type": "stream",
     "text": [
      "(953, 40)\n",
      "(1145, 40)\n"
     ]
    }
   ],
   "source": [
    "train_reduced = pca.transform(data_df)\n",
    "test_reduced = pca.transform(test_df)\n",
    "\n",
    "new_features_list = ['PCA_Feature_'+str(x) for x in range(pca.n_components_)]\n",
    "\n",
    "train_reduced_df = pd.DataFrame(train_reduced, columns=new_features_list)\n",
    "test_reduced_df = pd.DataFrame(test_reduced, columns=new_features_list)\n",
    "print(train_reduced_df.shape)\n",
    "print(test_reduced_df.shape)"
   ]
  },
  {
   "cell_type": "markdown",
   "metadata": {},
   "source": [
    "## Save the dimension reduced train and test data"
   ]
  },
  {
   "cell_type": "code",
   "execution_count": 6,
   "metadata": {},
   "outputs": [],
   "source": [
    "train_reduced_with_label = pd.concat([train_reduced_df, label_col], axis=1)\n",
    "train_reduced_with_label.to_csv('house-prices-advanced-regression-techniques/train_dim_reduced.csv', index=False)\n",
    "test_reduced_df.to_csv('house-prices-advanced-regression-techniques/test_dim_reduced.csv', index=False)"
   ]
  }
 ],
 "metadata": {
  "kernelspec": {
   "display_name": "Python 3",
   "language": "python",
   "name": "python3"
  },
  "language_info": {
   "codemirror_mode": {
    "name": "ipython",
    "version": 3
   },
   "file_extension": ".py",
   "mimetype": "text/x-python",
   "name": "python",
   "nbconvert_exporter": "python",
   "pygments_lexer": "ipython3",
   "version": "3.6.3"
  }
 },
 "nbformat": 4,
 "nbformat_minor": 2
}
