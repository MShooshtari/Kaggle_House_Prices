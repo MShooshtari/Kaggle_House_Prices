{
 "cells": [
  {
   "cell_type": "markdown",
   "metadata": {},
   "source": [
    "# 6. Dimensionality Reduction\n",
    "I am following this interesting instruction for PCA: https://towardsdatascience.com/pca-using-python-scikit-learn-e653f8989e60"
   ]
  },
  {
   "cell_type": "code",
   "execution_count": 1,
   "metadata": {
    "collapsed": true
   },
   "outputs": [],
   "source": [
    "import numpy as np \n",
    "import matplotlib.pyplot as plt\n",
    "from scipy import stats\n",
    "import pandas as pd\n",
    "%matplotlib inline"
   ]
  },
  {
   "cell_type": "code",
   "execution_count": 2,
   "metadata": {},
   "outputs": [
    {
     "name": "stdout",
     "output_type": "stream",
     "text": [
      "   TotRmsAbvGrd  OpenPorchSF  MasVnrArea  OverallQual  1stFlrSF  HalfBath  \\\n",
      "0      1.094086     0.248951    0.600193     0.652759 -0.776823  1.271730   \n",
      "1     -0.267594    -0.724180   -0.591533    -0.076155  0.304044 -0.751629   \n",
      "2     -0.267594    -0.054155    0.393465     0.652759 -0.606440  1.271730   \n",
      "3      0.413246    -0.165826   -0.591533     0.652759 -0.497288 -0.751629   \n",
      "4      1.774926     0.615869    1.536549     1.381673 -0.007437  1.271730   \n",
      "\n",
      "    LotArea  GrLivArea  YearBuilt  2ndFlrSF  ...  Exterior2nd_2  \\\n",
      "0 -0.256880   0.498442   1.028105  1.266019  ...      -0.811709   \n",
      "1  0.003496  -0.469281   0.141363 -0.788496  ...      -0.811709   \n",
      "2  0.377080   0.662609   0.962420  1.294888  ...      -0.811709   \n",
      "3 -0.007824   0.513563  -1.862016  1.030255  ...      -0.811709   \n",
      "4  1.058586   1.552568   0.929578  1.744764  ...      -0.811709   \n",
      "\n",
      "   Exterior2nd_3  Exterior2nd_4  MasVnrType_2  MasVnrType_3  Foundation_2  \\\n",
      "0      -0.788706       0.927961     -1.487184      1.231968     -1.066022   \n",
      "1       1.267899      -1.077632      0.672412     -0.811709      0.938067   \n",
      "2      -0.788706       0.927961     -1.487184      1.231968     -1.066022   \n",
      "3       1.267899       0.927961      0.672412     -0.811709      0.938067   \n",
      "4      -0.788706       0.927961     -1.487184      1.231968     -1.066022   \n",
      "\n",
      "   Foundation_3  GarageType_2  GarageType_3  SalePrice  \n",
      "0      0.854560     -0.753837      0.651037     208500  \n",
      "1     -1.170193     -0.753837      0.651037     181500  \n",
      "2      0.854560     -0.753837      0.651037     223500  \n",
      "3      0.854560      1.326546     -1.536012     140000  \n",
      "4      0.854560     -0.753837      0.651037     250000  \n",
      "\n",
      "[5 rows x 62 columns]\n"
     ]
    }
   ],
   "source": [
    "train_file = 'house-prices-advanced-regression-techniques/train_normalized.csv'\n",
    "train_df = pd.read_csv(train_file)\n",
    "test_file = 'house-prices-advanced-regression-techniques/test_normalized.csv'\n",
    "test_df = pd.read_csv(test_file)\n",
    "\n",
    "label_col = train_df['SalePrice']\n",
    "data_df = train_df.drop(['SalePrice'], axis=1)\n",
    "print(train_df.head())"
   ]
  },
  {
   "cell_type": "markdown",
   "metadata": {},
   "source": [
    "## Import and Apply PCA\n",
    "Notice the code below has .95 for the number of components parameter. It means that scikit-learn choose the minimum number of principal components such that 95% of the variance is retained."
   ]
  },
  {
   "cell_type": "code",
   "execution_count": 3,
   "metadata": {
    "collapsed": true
   },
   "outputs": [],
   "source": [
    "from sklearn.decomposition import PCA\n",
    "# Make an instance of the Model\n",
    "pca = PCA(.95)"
   ]
  },
  {
   "cell_type": "markdown",
   "metadata": {},
   "source": [
    "Fit PCA on training set. Note: you are fitting PCA on the training set only."
   ]
  },
  {
   "cell_type": "code",
   "execution_count": 4,
   "metadata": {},
   "outputs": [
    {
     "name": "stdout",
     "output_type": "stream",
     "text": [
      "40\n"
     ]
    }
   ],
   "source": [
    "pca.fit(data_df)\n",
    "print(pca.n_components_)"
   ]
  },
  {
   "cell_type": "markdown",
   "metadata": {},
   "source": [
    "Note: You can find out how many components PCA choose after fitting the model using pca.n_components_ . In this case, 95% of the variance amounts to 40 principal components."
   ]
  },
  {
   "cell_type": "code",
   "execution_count": 5,
   "metadata": {},
   "outputs": [
    {
     "name": "stdout",
     "output_type": "stream",
     "text": [
      "(953, 40)\n",
      "(1459, 40)\n"
     ]
    }
   ],
   "source": [
    "train_reduced = pca.transform(data_df)\n",
    "test_reduced = pca.transform(test_df)\n",
    "\n",
    "new_features_list = ['PCA_Feature_'+str(x) for x in range(pca.n_components_)]\n",
    "\n",
    "train_reduced_df = pd.DataFrame(train_reduced, columns=new_features_list)\n",
    "test_reduced_df = pd.DataFrame(test_reduced, columns=new_features_list)\n",
    "print(train_reduced_df.shape)\n",
    "print(test_reduced_df.shape)"
   ]
  },
  {
   "cell_type": "markdown",
   "metadata": {},
   "source": [
    "## Save the dimension reduced train and test data"
   ]
  },
  {
   "cell_type": "code",
   "execution_count": 6,
   "metadata": {
    "collapsed": true
   },
   "outputs": [],
   "source": [
    "train_reduced_with_label = pd.concat([train_reduced_df, label_col], axis=1)\n",
    "train_reduced_with_label.to_csv('house-prices-advanced-regression-techniques/train_dim_reduced.csv', index=False)\n",
    "test_reduced_df.to_csv('house-prices-advanced-regression-techniques/test_dim_reduced.csv', index=False)"
   ]
  }
 ],
 "metadata": {
  "kernelspec": {
   "display_name": "Python 3",
   "language": "python",
   "name": "python3"
  },
  "language_info": {
   "codemirror_mode": {
    "name": "ipython",
    "version": 3
   },
   "file_extension": ".py",
   "mimetype": "text/x-python",
   "name": "python",
   "nbconvert_exporter": "python",
   "pygments_lexer": "ipython3",
   "version": "3.6.3"
  }
 },
 "nbformat": 4,
 "nbformat_minor": 2
}
