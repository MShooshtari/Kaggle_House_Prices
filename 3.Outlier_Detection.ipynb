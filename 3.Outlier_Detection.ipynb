{
 "cells": [
  {
   "cell_type": "markdown",
   "metadata": {},
   "source": [
    "# 3. Outlier Detection"
   ]
  },
  {
   "cell_type": "markdown",
   "metadata": {},
   "source": [
    "## A good source to start with:\n",
    "https://towardsdatascience.com/5-ways-to-detect-outliers-that-every-data-scientist-should-know-python-code-70a54335a623\n",
    "    "
   ]
  },
  {
   "cell_type": "code",
   "execution_count": 1,
   "metadata": {
    "collapsed": true
   },
   "outputs": [],
   "source": [
    "import numpy as np \n",
    "import matplotlib.pyplot as plt\n",
    "from scipy import stats\n",
    "import pandas as pd\n",
    "%matplotlib inline"
   ]
  },
  {
   "cell_type": "markdown",
   "metadata": {},
   "source": [
    "## Load data"
   ]
  },
  {
   "cell_type": "code",
   "execution_count": 3,
   "metadata": {},
   "outputs": [
    {
     "name": "stdout",
     "output_type": "stream",
     "text": [
      "   TotRmsAbvGrd  OpenPorchSF  MasVnrArea  OverallQual  1stFlrSF  HalfBath  \\\n",
      "0             8           61       196.0            7       856         1   \n",
      "1             6            0         0.0            6      1262         0   \n",
      "2             6           42       162.0            7       920         1   \n",
      "3             7           35         0.0            7       961         0   \n",
      "4             9           84       350.0            8      1145         1   \n",
      "\n",
      "   LotArea  GrLivArea  YearBuilt  2ndFlrSF  ...  Exterior2nd_2  Exterior2nd_3  \\\n",
      "0     8450       1710       2003       854  ...              0              0   \n",
      "1     9600       1262       1976         0  ...              0              1   \n",
      "2    11250       1786       2001       866  ...              0              0   \n",
      "3     9550       1717       1915       756  ...              0              1   \n",
      "4    14260       2198       2000      1053  ...              0              0   \n",
      "\n",
      "   Exterior2nd_4  MasVnrType_2  MasVnrType_3  Foundation_2  Foundation_3  \\\n",
      "0              1             0             1             0             1   \n",
      "1              0             1             0             1             0   \n",
      "2              1             0             1             0             1   \n",
      "3              1             1             0             1             1   \n",
      "4              1             0             1             0             1   \n",
      "\n",
      "   GarageType_2  GarageType_3  SalePrice  \n",
      "0             0             1     208500  \n",
      "1             0             1     181500  \n",
      "2             0             1     223500  \n",
      "3             1             0     140000  \n",
      "4             0             1     250000  \n",
      "\n",
      "[5 rows x 62 columns]\n"
     ]
    }
   ],
   "source": [
    "train_file = 'house-prices-advanced-regression-techniques/train_clean.csv'\n",
    "train_df = pd.read_csv(train_file)\n",
    "print(train_df.head())\n"
   ]
  },
  {
   "cell_type": "markdown",
   "metadata": {},
   "source": [
    "## Method 1,  Standard Deviation: Good for single dimension outlier detection"
   ]
  },
  {
   "cell_type": "markdown",
   "metadata": {},
   "source": [
    "In statistics, If a data distribution is approximately normal then about 68% of the data values lie within one standard deviation of the mean and about 95% are within two standard deviations, and about 99.7% lie within three standard deviations.\n",
    "Therefore, if you have any data point that is more than 3 times the standard deviation, then those points are very likely to be anomalous or outliers."
   ]
  },
  {
   "cell_type": "code",
   "execution_count": 22,
   "metadata": {},
   "outputs": [
    {
     "name": "stdout",
     "output_type": "stream",
     "text": [
      "268\n",
      "168\n",
      "(1121, 62)\n",
      "(953, 62)\n"
     ]
    }
   ],
   "source": [
    "import numpy as np\n",
    "import matplotlib.pyplot as plt\n",
    "\n",
    "\n",
    "# Function to Detection Outlier on one-dimentional datasets.\n",
    "def find_anomalies(data):\n",
    "    anomalies_idx = []\n",
    "    # Set upper and lower limit to 3 standard deviation\n",
    "    data_std = data.std()\n",
    "    data_mean = data.mean()\n",
    "    anomaly_cut_off = data_std * 3\n",
    "    \n",
    "    lower_limit  = data_mean - anomaly_cut_off \n",
    "    upper_limit = data_mean + anomaly_cut_off\n",
    "    # Generate outliers\n",
    "    for idx in range(len(data)):\n",
    "        outlier = data[idx]\n",
    "        if outlier > upper_limit or outlier < lower_limit:\n",
    "            anomalies_idx.append(idx)\n",
    "    return anomalies_idx\n",
    "\n",
    "outliers_full_list = []\n",
    "for feature in train_df:\n",
    "    outliers_full_list = outliers_full_list + find_anomalies(train_df[feature].values)\n",
    "\n",
    "outliers_unique = list(set(outliers_full_list))\n",
    "print(len(outliers_full_list))\n",
    "print(len(outliers_unique))\n",
    "\n",
    "train_df_outlier_removed = train_df.drop(outliers_unique)\n",
    "\n",
    "print(train_df.shape)\n",
    "print(train_df_outlier_removed.shape)"
   ]
  },
  {
   "cell_type": "code",
   "execution_count": null,
   "metadata": {
    "collapsed": true
   },
   "outputs": [],
   "source": []
  }
 ],
 "metadata": {
  "kernelspec": {
   "display_name": "Python 3",
   "language": "python",
   "name": "python3"
  },
  "language_info": {
   "codemirror_mode": {
    "name": "ipython",
    "version": 3
   },
   "file_extension": ".py",
   "mimetype": "text/x-python",
   "name": "python",
   "nbconvert_exporter": "python",
   "pygments_lexer": "ipython3",
   "version": "3.6.3"
  }
 },
 "nbformat": 4,
 "nbformat_minor": 2
}
