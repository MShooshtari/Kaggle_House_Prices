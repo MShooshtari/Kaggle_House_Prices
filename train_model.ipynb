{
 "cells": [
  {
   "cell_type": "code",
   "execution_count": 1,
   "metadata": {},
   "outputs": [],
   "source": [
    "import pandas as pd\n",
    "import numpy as np\n",
    "import matplotlib.pyplot as plt\n",
    "from sklearn import preprocessing\n",
    "from sklearn import linear_model"
   ]
  },
  {
   "cell_type": "code",
   "execution_count": 11,
   "metadata": {
    "scrolled": true
   },
   "outputs": [],
   "source": [
    "data = pd.read_csv('preprocessed_data.csv')\n",
    "labels = pd.read_csv('train_labels.csv')\n",
    "test_data = pd.read_csv('test_ready.csv')\n",
    "\n",
    "test_data_1 = pd.read_csv('house-prices-advanced-regression-techniques/test.csv')\n",
    "ID = test_data_1[\"Id\"]\n",
    "# print(test_data)\n"
   ]
  },
  {
   "cell_type": "code",
   "execution_count": 12,
   "metadata": {},
   "outputs": [
    {
     "name": "stdout",
     "output_type": "stream",
     "text": [
      "245\n",
      "245\n"
     ]
    }
   ],
   "source": [
    "print(len(data.columns))\n",
    "print(len(test_data.columns))"
   ]
  },
  {
   "cell_type": "markdown",
   "metadata": {},
   "source": [
    "Train linear regression model\n"
   ]
  },
  {
   "cell_type": "code",
   "execution_count": 13,
   "metadata": {},
   "outputs": [
    {
     "name": "stdout",
     "output_type": "stream",
     "text": [
      "[112869.28795028]\n",
      "1459\n"
     ]
    }
   ],
   "source": [
    "\n",
    "# Create linear regression object\n",
    "regr = linear_model.LinearRegression()\n",
    "\n",
    "# Train the model using the training sets\n",
    "regr.fit(data, labels)\n",
    "\n",
    "# Make predictions using the testing set\n",
    "test_result = regr.predict(test_data)\n",
    "print(test_result[0])\n",
    "print(len(test_result))"
   ]
  },
  {
   "cell_type": "code",
   "execution_count": 14,
   "metadata": {},
   "outputs": [
    {
     "name": "stdout",
     "output_type": "stream",
     "text": [
      "        Id     SalePrice\n",
      "0     1461  1.128693e+05\n",
      "1     1462  1.591548e+05\n",
      "2     1463  1.882300e+05\n",
      "3     1464  1.957651e+05\n",
      "4     1465  2.043235e+05\n",
      "5     1466  1.700410e+05\n",
      "6     1467  1.824300e+05\n",
      "7     1468  1.571610e+05\n",
      "8     1469  2.083565e+05\n",
      "9     1470  1.149385e+05\n",
      "10    1471  1.561111e+05\n",
      "11    1472  9.750424e+04\n",
      "12    1473  9.399567e+04\n",
      "13    1474  1.457656e+05\n",
      "14    1475  1.055670e+05\n",
      "15    1476  3.753642e+05\n",
      "16    1477  2.608188e+05\n",
      "17    1478  3.104065e+05\n",
      "18    1479  3.031581e+05\n",
      "19    1480  4.822073e+05\n",
      "20    1481  3.150111e+05\n",
      "21    1482  2.043037e+05\n",
      "22    1483  1.773640e+05\n",
      "23    1484  1.611298e+05\n",
      "24    1485  1.781546e+05\n",
      "25    1486  1.889750e+05\n",
      "26    1487  3.349983e+05\n",
      "27    1488  2.293209e+05\n",
      "28    1489  2.037357e+05\n",
      "29    1490  2.576486e+05\n",
      "...    ...           ...\n",
      "1429  2890  7.942081e+04\n",
      "1430  2891  1.548956e+05\n",
      "1431  2892  6.515616e+03\n",
      "1432  2893  7.371943e+04\n",
      "1433  2894  1.100072e+04\n",
      "1434  2895  3.482323e+05\n",
      "1435  2896  2.902576e+05\n",
      "1436  2897  2.229781e+05\n",
      "1437  2898  1.307339e+05\n",
      "1438  2899  2.022549e+05\n",
      "1439  2900  1.594522e+05\n",
      "1440  2901  2.334545e+05\n",
      "1441  2902  1.653717e+05\n",
      "1442  2903  3.142257e+05\n",
      "1443  2904  3.560268e+05\n",
      "1444  2905 -5.324307e+14\n",
      "1445  2906  1.905358e+05\n",
      "1446  2907  1.028688e+05\n",
      "1447  2908  1.080359e+05\n",
      "1448  2909  1.321422e+05\n",
      "1449  2910  7.442593e+04\n",
      "1450  2911  7.103749e+04\n",
      "1451  2912  1.474106e+05\n",
      "1452  2913  7.335128e+04\n",
      "1453  2914  7.287844e+04\n",
      "1454  2915  8.391871e+04\n",
      "1455  2916  7.983234e+04\n",
      "1456  2917  1.763459e+05\n",
      "1457  2918  1.142592e+05\n",
      "1458  2919  2.219908e+05\n",
      "\n",
      "[1459 rows x 2 columns]\n"
     ]
    }
   ],
   "source": [
    "df = pd.DataFrame()\n",
    "df[\"Id\"] = ID\n",
    "df[\"SalePrice\"] = test_result\n",
    "# print(df)\n",
    "\n",
    "\n",
    "df.to_csv(r'C:\\Users\\Sina\\Desktop\\Anaconda\\Housing-Price\\submission.csv' ,index=False, header = True)"
   ]
  }
 ],
 "metadata": {
  "kernelspec": {
   "display_name": "Python 3",
   "language": "python",
   "name": "python3"
  },
  "language_info": {
   "codemirror_mode": {
    "name": "ipython",
    "version": 3
   },
   "file_extension": ".py",
   "mimetype": "text/x-python",
   "name": "python",
   "nbconvert_exporter": "python",
   "pygments_lexer": "ipython3",
   "version": "3.7.3"
  }
 },
 "nbformat": 4,
 "nbformat_minor": 2
}
