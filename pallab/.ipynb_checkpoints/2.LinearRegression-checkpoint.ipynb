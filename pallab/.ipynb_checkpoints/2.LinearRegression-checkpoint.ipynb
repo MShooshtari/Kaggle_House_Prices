{
 "cells": [
  {
   "cell_type": "code",
   "execution_count": 79,
   "metadata": {},
   "outputs": [],
   "source": [
    "import pandas as pd\n",
    "import numpy as np\n",
    "import matplotlib.pyplot as plt\n",
    "import seaborn as sns\n",
    "import string\n",
    "import math\n",
    "sns.set_style('whitegrid')\n",
    "%matplotlib inline"
   ]
  },
  {
   "cell_type": "code",
   "execution_count": 80,
   "metadata": {},
   "outputs": [],
   "source": [
    "trainData= pd.read_csv('./data/house-prices-advanced-regression-techniques/train.csv')\n",
    "testData=pd.read_csv('./data/house-prices-advanced-regression-techniques/test.csv')"
   ]
  },
  {
   "cell_type": "code",
   "execution_count": 81,
   "metadata": {},
   "outputs": [],
   "source": [
    "def dropFloatCol(df):\n",
    "    dropNumCol=[]\n",
    "    for checkZeros in list(df.select_dtypes(exclude=['category', object]).columns)[:-1]:\n",
    "        #convert nan to 0.0\n",
    "        df[checkZeros].replace(np.nan,0.0, inplace=True)\n",
    "        if len(df[checkZeros][df[checkZeros]==0.0])/len(df) >= .90:\n",
    "            dropNumCol.append(checkZeros)\n",
    "    if len(dropNumCol)>0:\n",
    "        df.drop(dropNumCol, axis=1, inplace=True)\n",
    "    return df,dropNumCol"
   ]
  },
  {
   "cell_type": "code",
   "execution_count": 82,
   "metadata": {},
   "outputs": [],
   "source": [
    "trainData,dropNumColumns=dropFloatCol(trainData)"
   ]
  },
  {
   "cell_type": "code",
   "execution_count": 83,
   "metadata": {},
   "outputs": [
    {
     "data": {
      "text/plain": [
       "['LowQualFinSF',\n",
       " 'BsmtHalfBath',\n",
       " '3SsnPorch',\n",
       " 'ScreenPorch',\n",
       " 'PoolArea',\n",
       " 'MiscVal']"
      ]
     },
     "execution_count": 83,
     "metadata": {},
     "output_type": "execute_result"
    }
   ],
   "source": [
    "dropNumColumns"
   ]
  },
  {
   "cell_type": "code",
   "execution_count": 84,
   "metadata": {},
   "outputs": [],
   "source": [
    "testData.drop(dropNumColumns, axis=1, inplace=True)"
   ]
  },
  {
   "cell_type": "code",
   "execution_count": 85,
   "metadata": {},
   "outputs": [],
   "source": [
    "for checkZerosTest in list(testData.select_dtypes(exclude=['category', object]).columns)[:-1]:\n",
    "    testData[checkZerosTest].replace(np.nan,0.0, inplace=True)"
   ]
  },
  {
   "cell_type": "code",
   "execution_count": 86,
   "metadata": {},
   "outputs": [],
   "source": [
    "def convertCatToNum(df):\n",
    "    cat_map_dict={}\n",
    "    for cat in list(df.select_dtypes(include=['category', object]).columns):\n",
    "        #convert nan to None\n",
    "        df[cat].replace(np.nan,'None', inplace=True)\n",
    "        catUnq=list(map(str,list(df[cat].unique())))\n",
    "        noneStatus=[l for l in catUnq if l.lower()=='none']\n",
    "        addnone=1\n",
    "        if len(noneStatus)>0:\n",
    "            addnone=0\n",
    "            for n in noneStatus:\n",
    "                del catUnq[catUnq.index(n)]\n",
    "            catUnq.insert(0,'None')\n",
    "        cat_map_dict[cat]={d:i+addnone for i,d in enumerate(catUnq)}\n",
    "    return cat_map_dict"
   ]
  },
  {
   "cell_type": "code",
   "execution_count": 87,
   "metadata": {},
   "outputs": [],
   "source": [
    "def dropCatCol(df):\n",
    "    mappedCatDic=convertCatToNum(df)\n",
    "    dropCatCol=[]\n",
    "    for catcount in mappedCatDic:\n",
    "        df[catcount] = df[catcount].map(mappedCatDic[catcount])\n",
    "        if (len(df[catcount][df[catcount]==0])/len(df)) >= .90:\n",
    "            dropCatCol.append(catcount)\n",
    "    \n",
    "    if len(dropCatCol)>0:\n",
    "        df.drop(dropCatCol, axis=1, inplace=True)\n",
    "    return df,mappedCatDic,dropCatCol"
   ]
  },
  {
   "cell_type": "code",
   "execution_count": 88,
   "metadata": {},
   "outputs": [],
   "source": [
    "trainData,catMapDic,dropCatColumns=dropCatCol(trainData)"
   ]
  },
  {
   "cell_type": "code",
   "execution_count": 89,
   "metadata": {},
   "outputs": [
    {
     "data": {
      "text/plain": [
       "0       1\n",
       "1       2\n",
       "2       1\n",
       "3       3\n",
       "4       1\n",
       "5       4\n",
       "6       1\n",
       "7       2\n",
       "8       3\n",
       "9       3\n",
       "10      2\n",
       "11      1\n",
       "12      2\n",
       "13      1\n",
       "14      2\n",
       "15      3\n",
       "16      2\n",
       "17      5\n",
       "18      1\n",
       "19      2\n",
       "20      1\n",
       "21      1\n",
       "22      1\n",
       "23      1\n",
       "24      2\n",
       "25      1\n",
       "26      2\n",
       "27      1\n",
       "28      2\n",
       "29      3\n",
       "       ..\n",
       "1430    1\n",
       "1431    2\n",
       "1432    3\n",
       "1433    1\n",
       "1434    2\n",
       "1435    2\n",
       "1436    1\n",
       "1437    1\n",
       "1438    2\n",
       "1439    2\n",
       "1440    3\n",
       "1441    1\n",
       "1442    1\n",
       "1443    3\n",
       "1444    1\n",
       "1445    2\n",
       "1446    2\n",
       "1447    1\n",
       "1448    2\n",
       "1449    2\n",
       "1450    2\n",
       "1451    1\n",
       "1452    1\n",
       "1453    1\n",
       "1454    1\n",
       "1455    1\n",
       "1456    2\n",
       "1457    6\n",
       "1458    2\n",
       "1459    2\n",
       "Name: Foundation, Length: 1460, dtype: int64"
      ]
     },
     "execution_count": 89,
     "metadata": {},
     "output_type": "execute_result"
    }
   ],
   "source": [
    "trainData['Foundation']"
   ]
  },
  {
   "cell_type": "code",
   "execution_count": 90,
   "metadata": {},
   "outputs": [],
   "source": [
    "for testCatCol in catMapDic:\n",
    "    try:\n",
    "        testData[testCatCol].replace(np.nan,'None', inplace=True)\n",
    "        testData[testCatCol] = testData[testCatCol].map(catMapDic[testCatCol])\n",
    "    except KeyError:\n",
    "        pass"
   ]
  },
  {
   "cell_type": "code",
   "execution_count": 91,
   "metadata": {},
   "outputs": [],
   "source": [
    "testData.drop(dropCatColumns, axis=1, inplace=True)"
   ]
  },
  {
   "cell_type": "code",
   "execution_count": 92,
   "metadata": {},
   "outputs": [],
   "source": [
    "trainData.drop(['Id'], axis=1, inplace=True)\n",
    "testData.drop(['Id'], axis=1, inplace=True)"
   ]
  },
  {
   "cell_type": "code",
   "execution_count": 115,
   "metadata": {},
   "outputs": [
    {
     "data": {
      "text/plain": [
       "<matplotlib.axes._subplots.AxesSubplot at 0x1a1e62cb00>"
      ]
     },
     "execution_count": 115,
     "metadata": {},
     "output_type": "execute_result"
    },
    {
     "data": {
      "image/png": "[encoded data removed]",
      "text/plain": [
       "<Figure size 432x288 with 1 Axes>"
      ]
     },
     "metadata": {
      "needs_background": "light"
     },
     "output_type": "display_data"
    }
   ],
   "source": [
    "#cbar false means no color bar and yticklabels false means no y label and check null value in yellow if present\n",
    "sns.heatmap(testData.isnull(),yticklabels=False,cbar=False,cmap='viridis')"
   ]
  },
  {
   "cell_type": "code",
   "execution_count": 116,
   "metadata": {},
   "outputs": [],
   "source": [
    "##replace Nan value to 0.0 in test Data\n",
    "for testCol in testData.columns:\n",
    "    testData[testCol].replace(np.nan,0.0, inplace=True)"
   ]
  },
  {
   "cell_type": "code",
   "execution_count": 117,
   "metadata": {},
   "outputs": [
    {
     "data": {
      "text/plain": [
       "<matplotlib.axes._subplots.AxesSubplot at 0x1a1eb667f0>"
      ]
     },
     "execution_count": 117,
     "metadata": {},
     "output_type": "execute_result"
    },
    {
     "data": {
      "image/png": "[encoded data removed]",
      "text/plain": [
       "<Figure size 432x288 with 1 Axes>"
      ]
     },
     "metadata": {
      "needs_background": "light"
     },
     "output_type": "display_data"
    }
   ],
   "source": [
    "#cbar false means no color bar and yticklabels false means no y label and check null value in yellow if present\n",
    "sns.heatmap(testData.isnull(),yticklabels=False,cbar=False,cmap='viridis')"
   ]
  },
  {
   "cell_type": "code",
   "execution_count": 118,
   "metadata": {},
   "outputs": [
    {
     "data": {
      "text/plain": [
       "Index(['MSSubClass', 'MSZoning', 'LotFrontage', 'LotArea', 'Street',\n",
       "       'LotShape', 'LandContour', 'Utilities', 'LotConfig', 'LandSlope',\n",
       "       'Neighborhood', 'Condition1', 'Condition2', 'BldgType', 'HouseStyle',\n",
       "       'OverallQual', 'OverallCond', 'YearBuilt', 'YearRemodAdd', 'RoofStyle',\n",
       "       'RoofMatl', 'Exterior1st', 'Exterior2nd', 'MasVnrType', 'MasVnrArea',\n",
       "       'ExterQual', 'ExterCond', 'Foundation', 'BsmtQual', 'BsmtCond',\n",
       "       'BsmtExposure', 'BsmtFinType1', 'BsmtFinSF1', 'BsmtFinType2',\n",
       "       'BsmtFinSF2', 'BsmtUnfSF', 'TotalBsmtSF', 'Heating', 'HeatingQC',\n",
       "       'CentralAir', 'Electrical', '1stFlrSF', '2ndFlrSF', 'GrLivArea',\n",
       "       'BsmtFullBath', 'FullBath', 'HalfBath', 'BedroomAbvGr', 'KitchenAbvGr',\n",
       "       'KitchenQual', 'TotRmsAbvGrd', 'Functional', 'Fireplaces',\n",
       "       'FireplaceQu', 'GarageType', 'GarageYrBlt', 'GarageFinish',\n",
       "       'GarageCars', 'GarageArea', 'GarageQual', 'GarageCond', 'PavedDrive',\n",
       "       'WoodDeckSF', 'OpenPorchSF', 'EnclosedPorch', 'Fence', 'MoSold',\n",
       "       'YrSold', 'SaleType', 'SaleCondition', 'SalePrice'],\n",
       "      dtype='object')"
      ]
     },
     "execution_count": 118,
     "metadata": {},
     "output_type": "execute_result"
    }
   ],
   "source": [
    "trainData.columns"
   ]
  },
  {
   "cell_type": "code",
   "execution_count": 119,
   "metadata": {},
   "outputs": [],
   "source": [
    "train_features=trainData[trainData.columns[:-1]]\n",
    "test_features=testData\n",
    "train_target=trainData[trainData.columns[-1]]\n",
    "#test_target="
   ]
  },
  {
   "cell_type": "code",
   "execution_count": 120,
   "metadata": {},
   "outputs": [
    {
     "data": {
      "text/plain": [
       "<seaborn.axisgrid.FacetGrid at 0x1a1eb98e10>"
      ]
     },
     "execution_count": 120,
     "metadata": {},
     "output_type": "execute_result"
    },
    {
     "data": {
      "image/png": "[encoded data removed]",
      "text/plain": [
       "<Figure size 360x360 with 1 Axes>"
      ]
     },
     "metadata": {
      "needs_background": "light"
     },
     "output_type": "display_data"
    }
   ],
   "source": [
    "sns.lmplot(x='OverallQual',y='SalePrice',data=trainData,palette='coolwarm')"
   ]
  },
  {
   "cell_type": "code",
   "execution_count": 121,
   "metadata": {},
   "outputs": [
    {
     "data": {
      "text/plain": [
       "<seaborn.axisgrid.FacetGrid at 0x1a1f0f8278>"
      ]
     },
     "execution_count": 121,
     "metadata": {},
     "output_type": "execute_result"
    },
    {
     "data": {
      "image/png": "[encoded data removed]",
      "text/plain": [
       "<Figure size 360x360 with 1 Axes>"
      ]
     },
     "metadata": {
      "needs_background": "light"
     },
     "output_type": "display_data"
    }
   ],
   "source": [
    "sns.lmplot(x='GrLivArea',y='SalePrice',data=trainData,palette='coolwarm')"
   ]
  },
  {
   "cell_type": "code",
   "execution_count": 122,
   "metadata": {},
   "outputs": [
    {
     "data": {
      "text/plain": [
       "<seaborn.axisgrid.FacetGrid at 0x1a1f134d68>"
      ]
     },
     "execution_count": 122,
     "metadata": {},
     "output_type": "execute_result"
    },
    {
     "data": {
      "image/png": "[encoded data removed]",
      "text/plain": [
       "<Figure size 360x360 with 1 Axes>"
      ]
     },
     "metadata": {
      "needs_background": "light"
     },
     "output_type": "display_data"
    }
   ],
   "source": [
    "sns.lmplot(x='Foundation',y='SalePrice',data=trainData,palette='coolwarm')"
   ]
  },
  {
   "cell_type": "code",
   "execution_count": 123,
   "metadata": {},
   "outputs": [
    {
     "data": {
      "text/plain": [
       "<seaborn.axisgrid.FacetGrid at 0x1a1f191898>"
      ]
     },
     "execution_count": 123,
     "metadata": {},
     "output_type": "execute_result"
    },
    {
     "data": {
      "image/png": "[encoded data removed]",
      "text/plain": [
       "<Figure size 360x360 with 1 Axes>"
      ]
     },
     "metadata": {
      "needs_background": "light"
     },
     "output_type": "display_data"
    }
   ],
   "source": [
    "sns.lmplot(x='TotalBsmtSF',y='SalePrice',data=trainData,palette='coolwarm')"
   ]
  },
  {
   "cell_type": "code",
   "execution_count": 144,
   "metadata": {},
   "outputs": [],
   "source": [
    "from sklearn.model_selection import train_test_split\n",
    "from sklearn.linear_model import LinearRegression\n",
    "from sklearn import metrics\n",
    "from sklearn.metrics import r2_score"
   ]
  },
  {
   "cell_type": "code",
   "execution_count": 125,
   "metadata": {},
   "outputs": [],
   "source": [
    "X_train, X_test, y_train, y_test = train_test_split(train_features, train_target, test_size=0.3, random_state=101)"
   ]
  },
  {
   "cell_type": "code",
   "execution_count": 126,
   "metadata": {},
   "outputs": [],
   "source": [
    "lm_train = LinearRegression()"
   ]
  },
  {
   "cell_type": "code",
   "execution_count": 127,
   "metadata": {},
   "outputs": [
    {
     "data": {
      "text/plain": [
       "LinearRegression(copy_X=True, fit_intercept=True, n_jobs=None, normalize=False)"
      ]
     },
     "execution_count": 127,
     "metadata": {},
     "output_type": "execute_result"
    }
   ],
   "source": [
    "lm_train.fit(X_train,y_train)"
   ]
  },
  {
   "cell_type": "code",
   "execution_count": 128,
   "metadata": {},
   "outputs": [
    {
     "name": "stdout",
     "output_type": "stream",
     "text": [
      "-436755.8993656252\n"
     ]
    }
   ],
   "source": [
    "print(lm_train.intercept_)"
   ]
  },
  {
   "cell_type": "code",
   "execution_count": 129,
   "metadata": {},
   "outputs": [
    {
     "data": {
      "text/html": [
       "<div>\n",
       "<style scoped>\n",
       "    .dataframe tbody tr th:only-of-type {\n",
       "        vertical-align: middle;\n",
       "    }\n",
       "\n",
       "    .dataframe tbody tr th {\n",
       "        vertical-align: top;\n",
       "    }\n",
       "\n",
       "    .dataframe thead th {\n",
       "        text-align: right;\n",
       "    }\n",
       "</style>\n",
       "<table border=\"1\" class=\"dataframe\">\n",
       "  <thead>\n",
       "    <tr style=\"text-align: right;\">\n",
       "      <th></th>\n",
       "      <th>Coefficient</th>\n",
       "    </tr>\n",
       "  </thead>\n",
       "  <tbody>\n",
       "    <tr>\n",
       "      <th>OverallQual</th>\n",
       "      <td>13418.652133</td>\n",
       "    </tr>\n",
       "    <tr>\n",
       "      <th>CentralAir</th>\n",
       "      <td>9777.025343</td>\n",
       "    </tr>\n",
       "    <tr>\n",
       "      <th>KitchenQual</th>\n",
       "      <td>9178.176018</td>\n",
       "    </tr>\n",
       "    <tr>\n",
       "      <th>GarageCars</th>\n",
       "      <td>7340.498777</td>\n",
       "    </tr>\n",
       "    <tr>\n",
       "      <th>OverallCond</th>\n",
       "      <td>6250.008992</td>\n",
       "    </tr>\n",
       "    <tr>\n",
       "      <th>BsmtQual</th>\n",
       "      <td>6109.922265</td>\n",
       "    </tr>\n",
       "    <tr>\n",
       "      <th>LotShape</th>\n",
       "      <td>4729.474903</td>\n",
       "    </tr>\n",
       "    <tr>\n",
       "      <th>TotRmsAbvGrd</th>\n",
       "      <td>3863.936938</td>\n",
       "    </tr>\n",
       "    <tr>\n",
       "      <th>LandSlope</th>\n",
       "      <td>3650.675057</td>\n",
       "    </tr>\n",
       "    <tr>\n",
       "      <th>ExterCond</th>\n",
       "      <td>3625.228783</td>\n",
       "    </tr>\n",
       "    <tr>\n",
       "      <th>GarageQual</th>\n",
       "      <td>3562.175661</td>\n",
       "    </tr>\n",
       "    <tr>\n",
       "      <th>BsmtFullBath</th>\n",
       "      <td>3182.373995</td>\n",
       "    </tr>\n",
       "    <tr>\n",
       "      <th>GarageFinish</th>\n",
       "      <td>3072.620962</td>\n",
       "    </tr>\n",
       "    <tr>\n",
       "      <th>ExterQual</th>\n",
       "      <td>3055.701822</td>\n",
       "    </tr>\n",
       "    <tr>\n",
       "      <th>FullBath</th>\n",
       "      <td>2556.795202</td>\n",
       "    </tr>\n",
       "    <tr>\n",
       "      <th>PavedDrive</th>\n",
       "      <td>2500.798720</td>\n",
       "    </tr>\n",
       "    <tr>\n",
       "      <th>MSZoning</th>\n",
       "      <td>2135.861489</td>\n",
       "    </tr>\n",
       "    <tr>\n",
       "      <th>Electrical</th>\n",
       "      <td>2079.745368</td>\n",
       "    </tr>\n",
       "    <tr>\n",
       "      <th>FireplaceQu</th>\n",
       "      <td>1640.593238</td>\n",
       "    </tr>\n",
       "    <tr>\n",
       "      <th>RoofStyle</th>\n",
       "      <td>1543.745021</td>\n",
       "    </tr>\n",
       "    <tr>\n",
       "      <th>BsmtExposure</th>\n",
       "      <td>1177.220649</td>\n",
       "    </tr>\n",
       "    <tr>\n",
       "      <th>SaleType</th>\n",
       "      <td>1157.367863</td>\n",
       "    </tr>\n",
       "    <tr>\n",
       "      <th>Fireplaces</th>\n",
       "      <td>1102.634927</td>\n",
       "    </tr>\n",
       "    <tr>\n",
       "      <th>LotConfig</th>\n",
       "      <td>1043.527218</td>\n",
       "    </tr>\n",
       "    <tr>\n",
       "      <th>Exterior2nd</th>\n",
       "      <td>1024.998620</td>\n",
       "    </tr>\n",
       "    <tr>\n",
       "      <th>YearBuilt</th>\n",
       "      <td>485.900920</td>\n",
       "    </tr>\n",
       "    <tr>\n",
       "      <th>GarageType</th>\n",
       "      <td>439.455112</td>\n",
       "    </tr>\n",
       "    <tr>\n",
       "      <th>YearRemodAdd</th>\n",
       "      <td>154.897555</td>\n",
       "    </tr>\n",
       "    <tr>\n",
       "      <th>LotFrontage</th>\n",
       "      <td>78.339383</td>\n",
       "    </tr>\n",
       "    <tr>\n",
       "      <th>1stFlrSF</th>\n",
       "      <td>45.534715</td>\n",
       "    </tr>\n",
       "    <tr>\n",
       "      <th>...</th>\n",
       "      <td>...</td>\n",
       "    </tr>\n",
       "    <tr>\n",
       "      <th>LotArea</th>\n",
       "      <td>0.469174</td>\n",
       "    </tr>\n",
       "    <tr>\n",
       "      <th>BsmtUnfSF</th>\n",
       "      <td>-5.656036</td>\n",
       "    </tr>\n",
       "    <tr>\n",
       "      <th>GarageYrBlt</th>\n",
       "      <td>-11.704393</td>\n",
       "    </tr>\n",
       "    <tr>\n",
       "      <th>MoSold</th>\n",
       "      <td>-25.871685</td>\n",
       "    </tr>\n",
       "    <tr>\n",
       "      <th>MSSubClass</th>\n",
       "      <td>-81.297826</td>\n",
       "    </tr>\n",
       "    <tr>\n",
       "      <th>HalfBath</th>\n",
       "      <td>-163.428622</td>\n",
       "    </tr>\n",
       "    <tr>\n",
       "      <th>HouseStyle</th>\n",
       "      <td>-213.506270</td>\n",
       "    </tr>\n",
       "    <tr>\n",
       "      <th>Neighborhood</th>\n",
       "      <td>-244.308634</td>\n",
       "    </tr>\n",
       "    <tr>\n",
       "      <th>Foundation</th>\n",
       "      <td>-308.115498</td>\n",
       "    </tr>\n",
       "    <tr>\n",
       "      <th>LandContour</th>\n",
       "      <td>-329.905204</td>\n",
       "    </tr>\n",
       "    <tr>\n",
       "      <th>SaleCondition</th>\n",
       "      <td>-399.032889</td>\n",
       "    </tr>\n",
       "    <tr>\n",
       "      <th>YrSold</th>\n",
       "      <td>-412.833910</td>\n",
       "    </tr>\n",
       "    <tr>\n",
       "      <th>Exterior1st</th>\n",
       "      <td>-996.199597</td>\n",
       "    </tr>\n",
       "    <tr>\n",
       "      <th>BldgType</th>\n",
       "      <td>-1163.896433</td>\n",
       "    </tr>\n",
       "    <tr>\n",
       "      <th>BsmtFinType1</th>\n",
       "      <td>-1885.520673</td>\n",
       "    </tr>\n",
       "    <tr>\n",
       "      <th>BsmtFinType2</th>\n",
       "      <td>-1957.772358</td>\n",
       "    </tr>\n",
       "    <tr>\n",
       "      <th>HeatingQC</th>\n",
       "      <td>-2119.167326</td>\n",
       "    </tr>\n",
       "    <tr>\n",
       "      <th>GarageCond</th>\n",
       "      <td>-2603.104953</td>\n",
       "    </tr>\n",
       "    <tr>\n",
       "      <th>Condition1</th>\n",
       "      <td>-3094.926337</td>\n",
       "    </tr>\n",
       "    <tr>\n",
       "      <th>Fence</th>\n",
       "      <td>-3197.202440</td>\n",
       "    </tr>\n",
       "    <tr>\n",
       "      <th>Functional</th>\n",
       "      <td>-3585.068341</td>\n",
       "    </tr>\n",
       "    <tr>\n",
       "      <th>MasVnrType</th>\n",
       "      <td>-3743.367254</td>\n",
       "    </tr>\n",
       "    <tr>\n",
       "      <th>Heating</th>\n",
       "      <td>-3814.115074</td>\n",
       "    </tr>\n",
       "    <tr>\n",
       "      <th>RoofMatl</th>\n",
       "      <td>-4050.362302</td>\n",
       "    </tr>\n",
       "    <tr>\n",
       "      <th>BsmtCond</th>\n",
       "      <td>-6703.827081</td>\n",
       "    </tr>\n",
       "    <tr>\n",
       "      <th>BedroomAbvGr</th>\n",
       "      <td>-9247.259834</td>\n",
       "    </tr>\n",
       "    <tr>\n",
       "      <th>Condition2</th>\n",
       "      <td>-12793.469001</td>\n",
       "    </tr>\n",
       "    <tr>\n",
       "      <th>KitchenAbvGr</th>\n",
       "      <td>-22220.200621</td>\n",
       "    </tr>\n",
       "    <tr>\n",
       "      <th>Street</th>\n",
       "      <td>-27970.104819</td>\n",
       "    </tr>\n",
       "    <tr>\n",
       "      <th>Utilities</th>\n",
       "      <td>-34820.075623</td>\n",
       "    </tr>\n",
       "  </tbody>\n",
       "</table>\n",
       "<p>70 rows × 1 columns</p>\n",
       "</div>"
      ],
      "text/plain": [
       "                Coefficient\n",
       "OverallQual    13418.652133\n",
       "CentralAir      9777.025343\n",
       "KitchenQual     9178.176018\n",
       "GarageCars      7340.498777\n",
       "OverallCond     6250.008992\n",
       "BsmtQual        6109.922265\n",
       "LotShape        4729.474903\n",
       "TotRmsAbvGrd    3863.936938\n",
       "LandSlope       3650.675057\n",
       "ExterCond       3625.228783\n",
       "GarageQual      3562.175661\n",
       "BsmtFullBath    3182.373995\n",
       "GarageFinish    3072.620962\n",
       "ExterQual       3055.701822\n",
       "FullBath        2556.795202\n",
       "PavedDrive      2500.798720\n",
       "MSZoning        2135.861489\n",
       "Electrical      2079.745368\n",
       "FireplaceQu     1640.593238\n",
       "RoofStyle       1543.745021\n",
       "BsmtExposure    1177.220649\n",
       "SaleType        1157.367863\n",
       "Fireplaces      1102.634927\n",
       "LotConfig       1043.527218\n",
       "Exterior2nd     1024.998620\n",
       "YearBuilt        485.900920\n",
       "GarageType       439.455112\n",
       "YearRemodAdd     154.897555\n",
       "LotFrontage       78.339383\n",
       "1stFlrSF          45.534715\n",
       "...                     ...\n",
       "LotArea            0.469174\n",
       "BsmtUnfSF         -5.656036\n",
       "GarageYrBlt      -11.704393\n",
       "MoSold           -25.871685\n",
       "MSSubClass       -81.297826\n",
       "HalfBath        -163.428622\n",
       "HouseStyle      -213.506270\n",
       "Neighborhood    -244.308634\n",
       "Foundation      -308.115498\n",
       "LandContour     -329.905204\n",
       "SaleCondition   -399.032889\n",
       "YrSold          -412.833910\n",
       "Exterior1st     -996.199597\n",
       "BldgType       -1163.896433\n",
       "BsmtFinType1   -1885.520673\n",
       "BsmtFinType2   -1957.772358\n",
       "HeatingQC      -2119.167326\n",
       "GarageCond     -2603.104953\n",
       "Condition1     -3094.926337\n",
       "Fence          -3197.202440\n",
       "Functional     -3585.068341\n",
       "MasVnrType     -3743.367254\n",
       "Heating        -3814.115074\n",
       "RoofMatl       -4050.362302\n",
       "BsmtCond       -6703.827081\n",
       "BedroomAbvGr   -9247.259834\n",
       "Condition2    -12793.469001\n",
       "KitchenAbvGr  -22220.200621\n",
       "Street        -27970.104819\n",
       "Utilities     -34820.075623\n",
       "\n",
       "[70 rows x 1 columns]"
      ]
     },
     "execution_count": 129,
     "metadata": {},
     "output_type": "execute_result"
    }
   ],
   "source": [
    "coeff_df_train = pd.DataFrame(lm_train.coef_,train_features.columns,columns=['Coefficient']).sort_values('Coefficient',ascending=False)\n",
    "coeff_df_train"
   ]
  },
  {
   "cell_type": "code",
   "execution_count": 130,
   "metadata": {},
   "outputs": [],
   "source": [
    "predictions_train = lm_train.predict(X_test)"
   ]
  },
  {
   "cell_type": "code",
   "execution_count": 131,
   "metadata": {},
   "outputs": [
    {
     "data": {
      "text/plain": [
       "<matplotlib.collections.PathCollection at 0x1a1f829780>"
      ]
     },
     "execution_count": 131,
     "metadata": {},
     "output_type": "execute_result"
    },
    {
     "data": {
      "image/png": "[encoded data removed]",
      "text/plain": [
       "<Figure size 432x288 with 1 Axes>"
      ]
     },
     "metadata": {
      "needs_background": "light"
     },
     "output_type": "display_data"
    }
   ],
   "source": [
    "plt.scatter(y_test,predictions_train)"
   ]
  },
  {
   "cell_type": "code",
   "execution_count": 132,
   "metadata": {},
   "outputs": [
    {
     "data": {
      "text/plain": [
       "array([[1.        , 0.85834558],\n",
       "       [0.85834558, 1.        ]])"
      ]
     },
     "execution_count": 132,
     "metadata": {},
     "output_type": "execute_result"
    }
   ],
   "source": [
    "np.corrcoef(y_test,predictions_train)"
   ]
  },
  {
   "cell_type": "code",
   "execution_count": 145,
   "metadata": {},
   "outputs": [
    {
     "name": "stdout",
     "output_type": "stream",
     "text": [
      "MAE: 20915.14812685029\n",
      "MSE: 1781768232.1169007\n",
      "RMSE: 42210.996578106286\n",
      "R-Squared 0.7168575248179097\n"
     ]
    }
   ],
   "source": [
    "print('MAE:', metrics.mean_absolute_error(y_test, predictions_train))\n",
    "print('MSE:', metrics.mean_squared_error(y_test, predictions_train))\n",
    "print('RMSE:', np.sqrt(metrics.mean_squared_error(y_test, predictions_train)))\n",
    "print('R-Squared',r2_score(y_test, predictions_train))"
   ]
  },
  {
   "cell_type": "code",
   "execution_count": 134,
   "metadata": {},
   "outputs": [],
   "source": [
    "lm = LinearRegression()"
   ]
  },
  {
   "cell_type": "code",
   "execution_count": 135,
   "metadata": {},
   "outputs": [
    {
     "data": {
      "text/plain": [
       "LinearRegression(copy_X=True, fit_intercept=True, n_jobs=None, normalize=False)"
      ]
     },
     "execution_count": 135,
     "metadata": {},
     "output_type": "execute_result"
    }
   ],
   "source": [
    "lm.fit(train_features,train_target)"
   ]
  },
  {
   "cell_type": "code",
   "execution_count": 136,
   "metadata": {},
   "outputs": [
    {
     "name": "stdout",
     "output_type": "stream",
     "text": [
      "-674122.0942811524\n"
     ]
    }
   ],
   "source": [
    "print(lm.intercept_)"
   ]
  },
  {
   "cell_type": "code",
   "execution_count": 137,
   "metadata": {},
   "outputs": [
    {
     "data": {
      "text/html": [
       "<div>\n",
       "<style scoped>\n",
       "    .dataframe tbody tr th:only-of-type {\n",
       "        vertical-align: middle;\n",
       "    }\n",
       "\n",
       "    .dataframe tbody tr th {\n",
       "        vertical-align: top;\n",
       "    }\n",
       "\n",
       "    .dataframe thead th {\n",
       "        text-align: right;\n",
       "    }\n",
       "</style>\n",
       "<table border=\"1\" class=\"dataframe\">\n",
       "  <thead>\n",
       "    <tr style=\"text-align: right;\">\n",
       "      <th></th>\n",
       "      <th>Coefficient</th>\n",
       "    </tr>\n",
       "  </thead>\n",
       "  <tbody>\n",
       "    <tr>\n",
       "      <th>OverallQual</th>\n",
       "      <td>14878.758227</td>\n",
       "    </tr>\n",
       "    <tr>\n",
       "      <th>GarageCars</th>\n",
       "      <td>14631.676396</td>\n",
       "    </tr>\n",
       "    <tr>\n",
       "      <th>KitchenQual</th>\n",
       "      <td>8260.352060</td>\n",
       "    </tr>\n",
       "    <tr>\n",
       "      <th>LandSlope</th>\n",
       "      <td>8218.093656</td>\n",
       "    </tr>\n",
       "    <tr>\n",
       "      <th>BsmtFullBath</th>\n",
       "      <td>7989.747411</td>\n",
       "    </tr>\n",
       "    <tr>\n",
       "      <th>BsmtQual</th>\n",
       "      <td>7327.626764</td>\n",
       "    </tr>\n",
       "    <tr>\n",
       "      <th>RoofStyle</th>\n",
       "      <td>7225.062982</td>\n",
       "    </tr>\n",
       "    <tr>\n",
       "      <th>FullBath</th>\n",
       "      <td>7223.568800</td>\n",
       "    </tr>\n",
       "    <tr>\n",
       "      <th>GarageQual</th>\n",
       "      <td>6547.842383</td>\n",
       "    </tr>\n",
       "    <tr>\n",
       "      <th>OverallCond</th>\n",
       "      <td>5791.568540</td>\n",
       "    </tr>\n",
       "    <tr>\n",
       "      <th>CentralAir</th>\n",
       "      <td>3480.738858</td>\n",
       "    </tr>\n",
       "    <tr>\n",
       "      <th>FireplaceQu</th>\n",
       "      <td>3294.384427</td>\n",
       "    </tr>\n",
       "    <tr>\n",
       "      <th>TotRmsAbvGrd</th>\n",
       "      <td>3089.772276</td>\n",
       "    </tr>\n",
       "    <tr>\n",
       "      <th>SaleType</th>\n",
       "      <td>2556.099174</td>\n",
       "    </tr>\n",
       "    <tr>\n",
       "      <th>Electrical</th>\n",
       "      <td>2141.113172</td>\n",
       "    </tr>\n",
       "    <tr>\n",
       "      <th>BsmtExposure</th>\n",
       "      <td>1956.194457</td>\n",
       "    </tr>\n",
       "    <tr>\n",
       "      <th>ExterQual</th>\n",
       "      <td>1927.599277</td>\n",
       "    </tr>\n",
       "    <tr>\n",
       "      <th>LandContour</th>\n",
       "      <td>1868.938305</td>\n",
       "    </tr>\n",
       "    <tr>\n",
       "      <th>GarageFinish</th>\n",
       "      <td>1349.842730</td>\n",
       "    </tr>\n",
       "    <tr>\n",
       "      <th>LotConfig</th>\n",
       "      <td>1326.116209</td>\n",
       "    </tr>\n",
       "    <tr>\n",
       "      <th>ExterCond</th>\n",
       "      <td>1104.156181</td>\n",
       "    </tr>\n",
       "    <tr>\n",
       "      <th>Exterior2nd</th>\n",
       "      <td>1093.129244</td>\n",
       "    </tr>\n",
       "    <tr>\n",
       "      <th>LotShape</th>\n",
       "      <td>1031.409063</td>\n",
       "    </tr>\n",
       "    <tr>\n",
       "      <th>SaleCondition</th>\n",
       "      <td>824.776838</td>\n",
       "    </tr>\n",
       "    <tr>\n",
       "      <th>Fireplaces</th>\n",
       "      <td>764.980611</td>\n",
       "    </tr>\n",
       "    <tr>\n",
       "      <th>GarageType</th>\n",
       "      <td>442.674867</td>\n",
       "    </tr>\n",
       "    <tr>\n",
       "      <th>YearBuilt</th>\n",
       "      <td>410.500883</td>\n",
       "    </tr>\n",
       "    <tr>\n",
       "      <th>Heating</th>\n",
       "      <td>357.087041</td>\n",
       "    </tr>\n",
       "    <tr>\n",
       "      <th>YearRemodAdd</th>\n",
       "      <td>139.317061</td>\n",
       "    </tr>\n",
       "    <tr>\n",
       "      <th>MasVnrArea</th>\n",
       "      <td>30.862478</td>\n",
       "    </tr>\n",
       "    <tr>\n",
       "      <th>...</th>\n",
       "      <td>...</td>\n",
       "    </tr>\n",
       "    <tr>\n",
       "      <th>BsmtFinSF1</th>\n",
       "      <td>2.505183</td>\n",
       "    </tr>\n",
       "    <tr>\n",
       "      <th>LotArea</th>\n",
       "      <td>0.377592</td>\n",
       "    </tr>\n",
       "    <tr>\n",
       "      <th>BsmtUnfSF</th>\n",
       "      <td>-5.719376</td>\n",
       "    </tr>\n",
       "    <tr>\n",
       "      <th>GarageYrBlt</th>\n",
       "      <td>-13.112210</td>\n",
       "    </tr>\n",
       "    <tr>\n",
       "      <th>LotFrontage</th>\n",
       "      <td>-16.093421</td>\n",
       "    </tr>\n",
       "    <tr>\n",
       "      <th>MSSubClass</th>\n",
       "      <td>-119.224817</td>\n",
       "    </tr>\n",
       "    <tr>\n",
       "      <th>HouseStyle</th>\n",
       "      <td>-135.395121</td>\n",
       "    </tr>\n",
       "    <tr>\n",
       "      <th>YrSold</th>\n",
       "      <td>-184.035345</td>\n",
       "    </tr>\n",
       "    <tr>\n",
       "      <th>Neighborhood</th>\n",
       "      <td>-284.833511</td>\n",
       "    </tr>\n",
       "    <tr>\n",
       "      <th>MSZoning</th>\n",
       "      <td>-617.027958</td>\n",
       "    </tr>\n",
       "    <tr>\n",
       "      <th>HalfBath</th>\n",
       "      <td>-823.321701</td>\n",
       "    </tr>\n",
       "    <tr>\n",
       "      <th>Exterior1st</th>\n",
       "      <td>-969.150789</td>\n",
       "    </tr>\n",
       "    <tr>\n",
       "      <th>BldgType</th>\n",
       "      <td>-1157.765665</td>\n",
       "    </tr>\n",
       "    <tr>\n",
       "      <th>Foundation</th>\n",
       "      <td>-1522.553399</td>\n",
       "    </tr>\n",
       "    <tr>\n",
       "      <th>BsmtFinType1</th>\n",
       "      <td>-1724.515143</td>\n",
       "    </tr>\n",
       "    <tr>\n",
       "      <th>BsmtFinType2</th>\n",
       "      <td>-1882.328229</td>\n",
       "    </tr>\n",
       "    <tr>\n",
       "      <th>Fence</th>\n",
       "      <td>-2117.936779</td>\n",
       "    </tr>\n",
       "    <tr>\n",
       "      <th>PavedDrive</th>\n",
       "      <td>-2177.131451</td>\n",
       "    </tr>\n",
       "    <tr>\n",
       "      <th>HeatingQC</th>\n",
       "      <td>-2234.338490</td>\n",
       "    </tr>\n",
       "    <tr>\n",
       "      <th>Condition1</th>\n",
       "      <td>-2430.926410</td>\n",
       "    </tr>\n",
       "    <tr>\n",
       "      <th>GarageCond</th>\n",
       "      <td>-3618.672539</td>\n",
       "    </tr>\n",
       "    <tr>\n",
       "      <th>Functional</th>\n",
       "      <td>-3967.373827</td>\n",
       "    </tr>\n",
       "    <tr>\n",
       "      <th>MasVnrType</th>\n",
       "      <td>-4552.624454</td>\n",
       "    </tr>\n",
       "    <tr>\n",
       "      <th>BsmtCond</th>\n",
       "      <td>-4761.272640</td>\n",
       "    </tr>\n",
       "    <tr>\n",
       "      <th>BedroomAbvGr</th>\n",
       "      <td>-7472.152244</td>\n",
       "    </tr>\n",
       "    <tr>\n",
       "      <th>Condition2</th>\n",
       "      <td>-10044.723326</td>\n",
       "    </tr>\n",
       "    <tr>\n",
       "      <th>RoofMatl</th>\n",
       "      <td>-13350.206475</td>\n",
       "    </tr>\n",
       "    <tr>\n",
       "      <th>KitchenAbvGr</th>\n",
       "      <td>-19451.075849</td>\n",
       "    </tr>\n",
       "    <tr>\n",
       "      <th>Street</th>\n",
       "      <td>-36180.634454</td>\n",
       "    </tr>\n",
       "    <tr>\n",
       "      <th>Utilities</th>\n",
       "      <td>-51697.814067</td>\n",
       "    </tr>\n",
       "  </tbody>\n",
       "</table>\n",
       "<p>70 rows × 1 columns</p>\n",
       "</div>"
      ],
      "text/plain": [
       "                Coefficient\n",
       "OverallQual    14878.758227\n",
       "GarageCars     14631.676396\n",
       "KitchenQual     8260.352060\n",
       "LandSlope       8218.093656\n",
       "BsmtFullBath    7989.747411\n",
       "BsmtQual        7327.626764\n",
       "RoofStyle       7225.062982\n",
       "FullBath        7223.568800\n",
       "GarageQual      6547.842383\n",
       "OverallCond     5791.568540\n",
       "CentralAir      3480.738858\n",
       "FireplaceQu     3294.384427\n",
       "TotRmsAbvGrd    3089.772276\n",
       "SaleType        2556.099174\n",
       "Electrical      2141.113172\n",
       "BsmtExposure    1956.194457\n",
       "ExterQual       1927.599277\n",
       "LandContour     1868.938305\n",
       "GarageFinish    1349.842730\n",
       "LotConfig       1326.116209\n",
       "ExterCond       1104.156181\n",
       "Exterior2nd     1093.129244\n",
       "LotShape        1031.409063\n",
       "SaleCondition    824.776838\n",
       "Fireplaces       764.980611\n",
       "GarageType       442.674867\n",
       "YearBuilt        410.500883\n",
       "Heating          357.087041\n",
       "YearRemodAdd     139.317061\n",
       "MasVnrArea        30.862478\n",
       "...                     ...\n",
       "BsmtFinSF1         2.505183\n",
       "LotArea            0.377592\n",
       "BsmtUnfSF         -5.719376\n",
       "GarageYrBlt      -13.112210\n",
       "LotFrontage      -16.093421\n",
       "MSSubClass      -119.224817\n",
       "HouseStyle      -135.395121\n",
       "YrSold          -184.035345\n",
       "Neighborhood    -284.833511\n",
       "MSZoning        -617.027958\n",
       "HalfBath        -823.321701\n",
       "Exterior1st     -969.150789\n",
       "BldgType       -1157.765665\n",
       "Foundation     -1522.553399\n",
       "BsmtFinType1   -1724.515143\n",
       "BsmtFinType2   -1882.328229\n",
       "Fence          -2117.936779\n",
       "PavedDrive     -2177.131451\n",
       "HeatingQC      -2234.338490\n",
       "Condition1     -2430.926410\n",
       "GarageCond     -3618.672539\n",
       "Functional     -3967.373827\n",
       "MasVnrType     -4552.624454\n",
       "BsmtCond       -4761.272640\n",
       "BedroomAbvGr   -7472.152244\n",
       "Condition2    -10044.723326\n",
       "RoofMatl      -13350.206475\n",
       "KitchenAbvGr  -19451.075849\n",
       "Street        -36180.634454\n",
       "Utilities     -51697.814067\n",
       "\n",
       "[70 rows x 1 columns]"
      ]
     },
     "execution_count": 137,
     "metadata": {},
     "output_type": "execute_result"
    }
   ],
   "source": [
    "coeff_df = pd.DataFrame(lm.coef_,train_features.columns,columns=['Coefficient']).sort_values('Coefficient',ascending=False)\n",
    "coeff_df"
   ]
  },
  {
   "cell_type": "code",
   "execution_count": 138,
   "metadata": {},
   "outputs": [],
   "source": [
    "predictions = lm.predict(test_features)"
   ]
  },
  {
   "cell_type": "code",
   "execution_count": 141,
   "metadata": {},
   "outputs": [],
   "source": [
    "predictionsDF=test_features\n",
    "predictionsDF[\"Predicted Sales price\"]=predictions"
   ]
  },
  {
   "cell_type": "code",
   "execution_count": 142,
   "metadata": {},
   "outputs": [
    {
     "data": {
      "text/html": [
       "<div>\n",
       "<style scoped>\n",
       "    .dataframe tbody tr th:only-of-type {\n",
       "        vertical-align: middle;\n",
       "    }\n",
       "\n",
       "    .dataframe tbody tr th {\n",
       "        vertical-align: top;\n",
       "    }\n",
       "\n",
       "    .dataframe thead th {\n",
       "        text-align: right;\n",
       "    }\n",
       "</style>\n",
       "<table border=\"1\" class=\"dataframe\">\n",
       "  <thead>\n",
       "    <tr style=\"text-align: right;\">\n",
       "      <th></th>\n",
       "      <th>MSSubClass</th>\n",
       "      <th>MSZoning</th>\n",
       "      <th>LotFrontage</th>\n",
       "      <th>LotArea</th>\n",
       "      <th>Street</th>\n",
       "      <th>LotShape</th>\n",
       "      <th>LandContour</th>\n",
       "      <th>Utilities</th>\n",
       "      <th>LotConfig</th>\n",
       "      <th>LandSlope</th>\n",
       "      <th>...</th>\n",
       "      <th>PavedDrive</th>\n",
       "      <th>WoodDeckSF</th>\n",
       "      <th>OpenPorchSF</th>\n",
       "      <th>EnclosedPorch</th>\n",
       "      <th>Fence</th>\n",
       "      <th>MoSold</th>\n",
       "      <th>YrSold</th>\n",
       "      <th>SaleType</th>\n",
       "      <th>SaleCondition</th>\n",
       "      <th>Predicted Sales price</th>\n",
       "    </tr>\n",
       "  </thead>\n",
       "  <tbody>\n",
       "    <tr>\n",
       "      <th>0</th>\n",
       "      <td>20</td>\n",
       "      <td>5.0</td>\n",
       "      <td>80.0</td>\n",
       "      <td>11622</td>\n",
       "      <td>1</td>\n",
       "      <td>1</td>\n",
       "      <td>1</td>\n",
       "      <td>1.0</td>\n",
       "      <td>1</td>\n",
       "      <td>1</td>\n",
       "      <td>...</td>\n",
       "      <td>1</td>\n",
       "      <td>140</td>\n",
       "      <td>0</td>\n",
       "      <td>0</td>\n",
       "      <td>1</td>\n",
       "      <td>6</td>\n",
       "      <td>2010</td>\n",
       "      <td>1.0</td>\n",
       "      <td>1</td>\n",
       "      <td>95490.447324</td>\n",
       "    </tr>\n",
       "    <tr>\n",
       "      <th>1</th>\n",
       "      <td>20</td>\n",
       "      <td>1.0</td>\n",
       "      <td>81.0</td>\n",
       "      <td>14267</td>\n",
       "      <td>1</td>\n",
       "      <td>2</td>\n",
       "      <td>1</td>\n",
       "      <td>1.0</td>\n",
       "      <td>3</td>\n",
       "      <td>1</td>\n",
       "      <td>...</td>\n",
       "      <td>1</td>\n",
       "      <td>393</td>\n",
       "      <td>36</td>\n",
       "      <td>0</td>\n",
       "      <td>0</td>\n",
       "      <td>6</td>\n",
       "      <td>2010</td>\n",
       "      <td>1.0</td>\n",
       "      <td>1</td>\n",
       "      <td>158279.143035</td>\n",
       "    </tr>\n",
       "    <tr>\n",
       "      <th>2</th>\n",
       "      <td>60</td>\n",
       "      <td>1.0</td>\n",
       "      <td>74.0</td>\n",
       "      <td>13830</td>\n",
       "      <td>1</td>\n",
       "      <td>2</td>\n",
       "      <td>1</td>\n",
       "      <td>1.0</td>\n",
       "      <td>1</td>\n",
       "      <td>1</td>\n",
       "      <td>...</td>\n",
       "      <td>1</td>\n",
       "      <td>212</td>\n",
       "      <td>34</td>\n",
       "      <td>0</td>\n",
       "      <td>1</td>\n",
       "      <td>3</td>\n",
       "      <td>2010</td>\n",
       "      <td>1.0</td>\n",
       "      <td>1</td>\n",
       "      <td>179237.610332</td>\n",
       "    </tr>\n",
       "    <tr>\n",
       "      <th>3</th>\n",
       "      <td>60</td>\n",
       "      <td>1.0</td>\n",
       "      <td>78.0</td>\n",
       "      <td>9978</td>\n",
       "      <td>1</td>\n",
       "      <td>2</td>\n",
       "      <td>1</td>\n",
       "      <td>1.0</td>\n",
       "      <td>1</td>\n",
       "      <td>1</td>\n",
       "      <td>...</td>\n",
       "      <td>1</td>\n",
       "      <td>360</td>\n",
       "      <td>36</td>\n",
       "      <td>0</td>\n",
       "      <td>0</td>\n",
       "      <td>6</td>\n",
       "      <td>2010</td>\n",
       "      <td>1.0</td>\n",
       "      <td>1</td>\n",
       "      <td>204914.070839</td>\n",
       "    </tr>\n",
       "    <tr>\n",
       "      <th>4</th>\n",
       "      <td>120</td>\n",
       "      <td>1.0</td>\n",
       "      <td>43.0</td>\n",
       "      <td>5005</td>\n",
       "      <td>1</td>\n",
       "      <td>2</td>\n",
       "      <td>4</td>\n",
       "      <td>1.0</td>\n",
       "      <td>1</td>\n",
       "      <td>1</td>\n",
       "      <td>...</td>\n",
       "      <td>1</td>\n",
       "      <td>0</td>\n",
       "      <td>82</td>\n",
       "      <td>0</td>\n",
       "      <td>0</td>\n",
       "      <td>1</td>\n",
       "      <td>2010</td>\n",
       "      <td>1.0</td>\n",
       "      <td>1</td>\n",
       "      <td>181100.827882</td>\n",
       "    </tr>\n",
       "  </tbody>\n",
       "</table>\n",
       "<p>5 rows × 71 columns</p>\n",
       "</div>"
      ],
      "text/plain": [
       "   MSSubClass  MSZoning  LotFrontage  LotArea  Street  LotShape  LandContour  \\\n",
       "0          20       5.0         80.0    11622       1         1            1   \n",
       "1          20       1.0         81.0    14267       1         2            1   \n",
       "2          60       1.0         74.0    13830       1         2            1   \n",
       "3          60       1.0         78.0     9978       1         2            1   \n",
       "4         120       1.0         43.0     5005       1         2            4   \n",
       "\n",
       "   Utilities  LotConfig  LandSlope  ...  PavedDrive  WoodDeckSF  OpenPorchSF  \\\n",
       "0        1.0          1          1  ...           1         140            0   \n",
       "1        1.0          3          1  ...           1         393           36   \n",
       "2        1.0          1          1  ...           1         212           34   \n",
       "3        1.0          1          1  ...           1         360           36   \n",
       "4        1.0          1          1  ...           1           0           82   \n",
       "\n",
       "   EnclosedPorch  Fence  MoSold  YrSold  SaleType  SaleCondition  \\\n",
       "0              0      1       6    2010       1.0              1   \n",
       "1              0      0       6    2010       1.0              1   \n",
       "2              0      1       3    2010       1.0              1   \n",
       "3              0      0       6    2010       1.0              1   \n",
       "4              0      0       1    2010       1.0              1   \n",
       "\n",
       "   Predicted Sales price  \n",
       "0           95490.447324  \n",
       "1          158279.143035  \n",
       "2          179237.610332  \n",
       "3          204914.070839  \n",
       "4          181100.827882  \n",
       "\n",
       "[5 rows x 71 columns]"
      ]
     },
     "execution_count": 142,
     "metadata": {},
     "output_type": "execute_result"
    }
   ],
   "source": [
    "predictionsDF.head()"
   ]
  },
  {
   "cell_type": "code",
   "execution_count": 143,
   "metadata": {},
   "outputs": [
    {
     "name": "stdout",
     "output_type": "stream",
     "text": [
      "<class 'pandas.core.frame.DataFrame'>\n",
      "RangeIndex: 1459 entries, 0 to 1458\n",
      "Data columns (total 71 columns):\n",
      "MSSubClass               1459 non-null int64\n",
      "MSZoning                 1459 non-null float64\n",
      "LotFrontage              1459 non-null float64\n",
      "LotArea                  1459 non-null int64\n",
      "Street                   1459 non-null int64\n",
      "LotShape                 1459 non-null int64\n",
      "LandContour              1459 non-null int64\n",
      "Utilities                1459 non-null float64\n",
      "LotConfig                1459 non-null int64\n",
      "LandSlope                1459 non-null int64\n",
      "Neighborhood             1459 non-null int64\n",
      "Condition1               1459 non-null int64\n",
      "Condition2               1459 non-null int64\n",
      "BldgType                 1459 non-null int64\n",
      "HouseStyle               1459 non-null int64\n",
      "OverallQual              1459 non-null int64\n",
      "OverallCond              1459 non-null int64\n",
      "YearBuilt                1459 non-null int64\n",
      "YearRemodAdd             1459 non-null int64\n",
      "RoofStyle                1459 non-null int64\n",
      "RoofMatl                 1459 non-null int64\n",
      "Exterior1st              1459 non-null float64\n",
      "Exterior2nd              1459 non-null float64\n",
      "MasVnrType               1459 non-null int64\n",
      "MasVnrArea               1459 non-null float64\n",
      "ExterQual                1459 non-null int64\n",
      "ExterCond                1459 non-null int64\n",
      "Foundation               1459 non-null int64\n",
      "BsmtQual                 1459 non-null int64\n",
      "BsmtCond                 1459 non-null int64\n",
      "BsmtExposure             1459 non-null int64\n",
      "BsmtFinType1             1459 non-null int64\n",
      "BsmtFinSF1               1459 non-null float64\n",
      "BsmtFinType2             1459 non-null int64\n",
      "BsmtFinSF2               1459 non-null float64\n",
      "BsmtUnfSF                1459 non-null float64\n",
      "TotalBsmtSF              1459 non-null float64\n",
      "Heating                  1459 non-null int64\n",
      "HeatingQC                1459 non-null int64\n",
      "CentralAir               1459 non-null int64\n",
      "Electrical               1459 non-null int64\n",
      "1stFlrSF                 1459 non-null int64\n",
      "2ndFlrSF                 1459 non-null int64\n",
      "GrLivArea                1459 non-null int64\n",
      "BsmtFullBath             1459 non-null float64\n",
      "FullBath                 1459 non-null int64\n",
      "HalfBath                 1459 non-null int64\n",
      "BedroomAbvGr             1459 non-null int64\n",
      "KitchenAbvGr             1459 non-null int64\n",
      "KitchenQual              1459 non-null float64\n",
      "TotRmsAbvGrd             1459 non-null int64\n",
      "Functional               1459 non-null float64\n",
      "Fireplaces               1459 non-null int64\n",
      "FireplaceQu              1459 non-null int64\n",
      "GarageType               1459 non-null int64\n",
      "GarageYrBlt              1459 non-null float64\n",
      "GarageFinish             1459 non-null int64\n",
      "GarageCars               1459 non-null float64\n",
      "GarageArea               1459 non-null float64\n",
      "GarageQual               1459 non-null int64\n",
      "GarageCond               1459 non-null int64\n",
      "PavedDrive               1459 non-null int64\n",
      "WoodDeckSF               1459 non-null int64\n",
      "OpenPorchSF              1459 non-null int64\n",
      "EnclosedPorch            1459 non-null int64\n",
      "Fence                    1459 non-null int64\n",
      "MoSold                   1459 non-null int64\n",
      "YrSold                   1459 non-null int64\n",
      "SaleType                 1459 non-null float64\n",
      "SaleCondition            1459 non-null int64\n",
      "Predicted Sales price    1459 non-null float64\n",
      "dtypes: float64(18), int64(53)\n",
      "memory usage: 809.4 KB\n"
     ]
    }
   ],
   "source": [
    "predictionsDF.info()"
   ]
  },
  {
   "cell_type": "code",
   "execution_count": null,
   "metadata": {},
   "outputs": [],
   "source": []
  }
 ],
 "metadata": {
  "kernelspec": {
   "display_name": "Python 3",
   "language": "python",
   "name": "python3"
  },
  "language_info": {
   "codemirror_mode": {
    "name": "ipython",
    "version": 3
   },
   "file_extension": ".py",
   "mimetype": "text/x-python",
   "name": "python",
   "nbconvert_exporter": "python",
   "pygments_lexer": "ipython3",
   "version": "3.7.3"
  }
 },
 "nbformat": 4,
 "nbformat_minor": 2
}
