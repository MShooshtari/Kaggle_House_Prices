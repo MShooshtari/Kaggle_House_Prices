{
 "cells": [
  {
   "cell_type": "markdown",
   "metadata": {},
   "source": [
    "# 2. Clean Numeric Data"
   ]
  },
  {
   "cell_type": "markdown",
   "metadata": {},
   "source": [
    "## Things to consider:\n",
    "    - [ ] Range of the variables\n",
    "    - [ ] Nulls in each feature column. Remove columns with number of nulls bigger than a threshold.\n",
    "    - [ ] One value dominance in each feature column. Remove columns with dominance bigger than a threshold.\n",
    "    - [ ] Remove rows that have nulls\n",
    "    - [ ] Cleaning the test dataset?"
   ]
  },
  {
   "cell_type": "code",
   "execution_count": 1,
   "metadata": {
    "collapsed": true
   },
   "outputs": [],
   "source": [
    "import numpy as np \n",
    "import matplotlib.pyplot as plt\n",
    "from scipy import stats\n",
    "import pandas as pd\n",
    "%matplotlib inline"
   ]
  },
  {
   "cell_type": "markdown",
   "metadata": {},
   "source": [
    "## Load data"
   ]
  },
  {
   "cell_type": "code",
   "execution_count": 2,
   "metadata": {
    "collapsed": true
   },
   "outputs": [],
   "source": [
    "train_numeric_file = 'house-prices-advanced-regression-techniques/train_numeric.csv'\n",
    "test_numeric_file = 'house-prices-advanced-regression-techniques/test_numeric.csv'"
   ]
  },
  {
   "cell_type": "markdown",
   "metadata": {},
   "source": [
    "## Cleaning the training data"
   ]
  },
  {
   "cell_type": "code",
   "execution_count": 3,
   "metadata": {},
   "outputs": [
    {
     "name": "stdout",
     "output_type": "stream",
     "text": [
      "   TotRmsAbvGrd  OpenPorchSF  MasVnrArea  PoolArea  MiscVal  OverallQual  \\\n",
      "0             8           61       196.0         0        0            7   \n",
      "1             6            0         0.0         0        0            6   \n",
      "2             6           42       162.0         0        0            7   \n",
      "3             7           35         0.0         0        0            7   \n",
      "4             9           84       350.0         0        0            8   \n",
      "\n",
      "   1stFlrSF  ScreenPorch  HalfBath  KitchenAbvGr  ...  MiscFeature_2  \\\n",
      "0       856            0         1             1  ...              0   \n",
      "1      1262            0         0             1  ...              0   \n",
      "2       920            0         1             1  ...              0   \n",
      "3       961            0         0             1  ...              0   \n",
      "4      1145            0         1             1  ...              0   \n",
      "\n",
      "   MiscFeature_3  SaleType_1  SaleType_2  SaleType_3  SaleType_4  \\\n",
      "0              1           0           0           0           1   \n",
      "1              1           0           0           0           1   \n",
      "2              1           0           0           0           1   \n",
      "3              1           0           0           0           1   \n",
      "4              1           0           0           0           1   \n",
      "\n",
      "   SaleCondition_1  SaleCondition_2  SaleCondition_3  SalePrice  \n",
      "0                0                0                1     208500  \n",
      "1                0                0                1     181500  \n",
      "2                0                0                1     223500  \n",
      "3                0                1                0     140000  \n",
      "4                0                0                1     250000  \n",
      "\n",
      "[5 rows x 129 columns]\n"
     ]
    }
   ],
   "source": [
    "train_df = pd.read_csv(train_numeric_file)\n",
    "print(train_df.head())"
   ]
  },
  {
   "cell_type": "markdown",
   "metadata": {},
   "source": [
    "### Check th range of the features\n",
    "    - NOT IMPLEMENTED "
   ]
  },
  {
   "cell_type": "markdown",
   "metadata": {},
   "source": [
    "### Remove columns with number of nulls bigger than a threshold.  \n",
    "### Remove columns with dominance bigger than a threshold."
   ]
  },
  {
   "cell_type": "code",
   "execution_count": 4,
   "metadata": {},
   "outputs": [
    {
     "name": "stdout",
     "output_type": "stream",
     "text": [
      "(1460, 129)\n",
      "(1460, 62)\n"
     ]
    }
   ],
   "source": [
    "drop_thresh = 0.8\n",
    "drop_list = []\n",
    "for feature in train_df:\n",
    "    col_df = train_df[feature]\n",
    "    count_nan = col_df.isnull().sum()\n",
    "    nan_ratio = count_nan/len(col_df)   \n",
    "    repeats = train_df.pivot_table(index=[feature], aggfunc='size').sort_values()\n",
    "    max_repeat_ratio = repeats.max()/len(col_df)\n",
    "    if (nan_ratio>drop_thresh or max_repeat_ratio>drop_thresh):\n",
    "        drop_list.append(feature)\n",
    "        \n",
    "train_df_repeats_removed = train_df.drop(drop_list, axis=1)\n",
    "\n",
    "print(train_df.shape)\n",
    "print(train_df_repeats_removed.shape)\n",
    "    \n",
    "    "
   ]
  },
  {
   "cell_type": "markdown",
   "metadata": {},
   "source": [
    "### Remove rows that contain null"
   ]
  },
  {
   "cell_type": "code",
   "execution_count": 5,
   "metadata": {},
   "outputs": [
    {
     "name": "stdout",
     "output_type": "stream",
     "text": [
      "(1121, 62)\n"
     ]
    }
   ],
   "source": [
    "train_df_repeats_and_nulls_removed = train_df_repeats_removed.dropna()\n",
    "print(train_df_repeats_and_nulls_removed.shape)"
   ]
  },
  {
   "cell_type": "markdown",
   "metadata": {},
   "source": [
    "### Save the clean train data"
   ]
  },
  {
   "cell_type": "code",
   "execution_count": 6,
   "metadata": {
    "collapsed": true
   },
   "outputs": [],
   "source": [
    "train_clean = train_df_repeats_and_nulls_removed\n",
    "train_clean.to_csv('house-prices-advanced-regression-techniques/train_clean.csv', index=False)"
   ]
  },
  {
   "cell_type": "markdown",
   "metadata": {},
   "source": [
    "## Cleaning the test data"
   ]
  },
  {
   "cell_type": "markdown",
   "metadata": {},
   "source": [
    "### Drop the non-valid cols"
   ]
  },
  {
   "cell_type": "code",
   "execution_count": 7,
   "metadata": {},
   "outputs": [
    {
     "name": "stdout",
     "output_type": "stream",
     "text": [
      "(1459, 128)\n",
      "(1459, 61)\n"
     ]
    }
   ],
   "source": [
    "test_df = pd.read_csv(test_numeric_file)\n",
    "print(test_df.shape)\n",
    "test_df_valid_cols = test_df.drop(drop_list, axis=1)\n",
    "print(test_df_valid_cols.shape)\n"
   ]
  },
  {
   "cell_type": "markdown",
   "metadata": {},
   "source": [
    "### Remove the rows with null "
   ]
  },
  {
   "cell_type": "code",
   "execution_count": 8,
   "metadata": {},
   "outputs": [
    {
     "name": "stdout",
     "output_type": "stream",
     "text": [
      "(1145, 61)\n"
     ]
    }
   ],
   "source": [
    "test_df_valid_cols_nulls_removed = test_df_valid_cols.dropna()\n",
    "print(test_df_valid_cols_nulls_removed.shape)"
   ]
  },
  {
   "cell_type": "markdown",
   "metadata": {
    "collapsed": true
   },
   "source": [
    "### Save the clean test data"
   ]
  },
  {
   "cell_type": "code",
   "execution_count": 9,
   "metadata": {
    "collapsed": true
   },
   "outputs": [],
   "source": [
    "test_clean = test_df_valid_cols_nulls_removed\n",
    "test_clean.to_csv('house-prices-advanced-regression-techniques/test_clean.csv', index=False)"
   ]
  }
 ],
 "metadata": {
  "kernelspec": {
   "display_name": "Python 3",
   "language": "python",
   "name": "python3"
  },
  "language_info": {
   "codemirror_mode": {
    "name": "ipython",
    "version": 3
   },
   "file_extension": ".py",
   "mimetype": "text/x-python",
   "name": "python",
   "nbconvert_exporter": "python",
   "pygments_lexer": "ipython3",
   "version": "3.6.3"
  }
 },
 "nbformat": 4,
 "nbformat_minor": 2
}
