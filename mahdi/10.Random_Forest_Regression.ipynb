{
 "cells": [
  {
   "cell_type": "markdown",
   "metadata": {},
   "source": [
    "# 10. Random Forest Regression"
   ]
  },
  {
   "cell_type": "code",
   "execution_count": 1,
   "metadata": {
    "collapsed": true
   },
   "outputs": [],
   "source": [
    "import numpy as np \n",
    "import matplotlib.pyplot as plt\n",
    "from scipy import stats\n",
    "import pandas as pd\n",
    "%matplotlib inline\n",
    "import xgboost as xgb\n",
    "from xgboost import XGBRegressor\n",
    "from sklearn.model_selection import GridSearchCV, RandomizedSearchCV\n",
    "from xgboost import plot_importance\n",
    "from sklearn.feature_selection import SelectFromModel\n",
    "from sklearn.model_selection import train_test_split\n",
    "from sklearn.metrics import mean_squared_error\n",
    "from math import sqrt\n",
    "from sklearn.ensemble import RandomForestRegressor"
   ]
  },
  {
   "cell_type": "markdown",
   "metadata": {},
   "source": [
    "## Process Normalized Data Without PCA"
   ]
  },
  {
   "cell_type": "markdown",
   "metadata": {},
   "source": [
    "### Load train and test data"
   ]
  },
  {
   "cell_type": "code",
   "execution_count": 5,
   "metadata": {
    "collapsed": true
   },
   "outputs": [],
   "source": [
    "train_file = 'house-prices-advanced-regression-techniques/train_normalized.csv'\n",
    "\n",
    "train_df = pd.read_csv(train_file)\n",
    "\n",
    "test_file = 'house-prices-advanced-regression-techniques/test_normalized.csv'\n",
    "test_df = pd.read_csv(test_file)"
   ]
  },
  {
   "cell_type": "markdown",
   "metadata": {},
   "source": [
    "### Train model on the train data and predict the test data"
   ]
  },
  {
   "cell_type": "code",
   "execution_count": 9,
   "metadata": {},
   "outputs": [
    {
     "name": "stdout",
     "output_type": "stream",
     "text": [
      "[123386.3346 156980.3259 187487.1025 ... 154023.0264 129363.2621\n",
      " 236830.8291]\n",
      "(1459,)\n"
     ]
    }
   ],
   "source": [
    "X = train_df.drop(['SalePrice'], axis=1)\n",
    "Y = train_df['SalePrice']\n",
    "# Instantiate model with 1000 decision trees\n",
    "# rf = RandomForestRegressor(n_estimators = 1000, random_state = 42)\n",
    "rf = RandomForestRegressor(n_estimators = 10000, random_state = 50)\n",
    "\n",
    "rf.fit(X,Y)\n",
    "\n",
    "Y_pred = rf.predict(test_df)\n",
    "print(Y_pred)\n",
    "print(Y_pred.shape)"
   ]
  },
  {
   "cell_type": "markdown",
   "metadata": {},
   "source": [
    "### Save results"
   ]
  },
  {
   "cell_type": "code",
   "execution_count": 10,
   "metadata": {
    "collapsed": true
   },
   "outputs": [],
   "source": [
    "original_test_file = 'house-prices-advanced-regression-techniques/test.csv'\n",
    "original_test_df = pd.read_csv(original_test_file)\n",
    "id_col = original_test_df['Id']\n",
    "result_df = pd.concat([id_col, pd.DataFrame(Y_pred, columns=['SalePrice'])], axis=1)\n",
    "result_df.to_csv('RF_reg_WO_PCA.csv', index=False)"
   ]
  },
  {
   "cell_type": "markdown",
   "metadata": {},
   "source": [
    "## Improving the results by using Grid Search"
   ]
  },
  {
   "cell_type": "markdown",
   "metadata": {},
   "source": [
    "### List of parameters and their possible changes as the input for Grid Search"
   ]
  },
  {
   "cell_type": "code",
   "execution_count": null,
   "metadata": {
    "collapsed": true
   },
   "outputs": [],
   "source": [
    "# A parameter grid for XGBoost\n",
    "params = {'min_child_weight':[4,5],\n",
    "          'gamma':[i/10.0 for i in range(3,6)],\n",
    "          'subsample':[i/10.0 for i in range(6,11)],\n",
    "          'colsample_bytree':[i/10.0 for i in range(6,11)],\n",
    "          'max_depth': [2,3,4,5,6],\n",
    "         'learning_rate': [0.01, 0.05, 0.1, 0.15, 0,2],\n",
    "          'n_estimators' :[1, 10, 50, 100],\n",
    "         }"
   ]
  },
  {
   "cell_type": "markdown",
   "metadata": {},
   "source": [
    "### Initialize XGB and GridSearch"
   ]
  },
  {
   "cell_type": "code",
   "execution_count": null,
   "metadata": {
    "collapsed": true
   },
   "outputs": [],
   "source": [
    "X = train_df.drop(['SalePrice'], axis=1)\n",
    "Y = train_df['SalePrice']\n",
    "\n",
    "\n",
    "xgb = XGBRegressor(objective ='reg:squarederror')\n",
    "grid = RandomizedSearchCV(xgb, params)\n",
    "grid.fit(X, Y)\n",
    "# grid.get_params\n",
    "print(grid.best_params_)"
   ]
  },
  {
   "cell_type": "markdown",
   "metadata": {},
   "source": [
    "### Train the XGBoost again, this time with the best hyper-parameters"
   ]
  },
  {
   "cell_type": "code",
   "execution_count": null,
   "metadata": {
    "collapsed": true
   },
   "outputs": [],
   "source": [
    "xgb = XGBRegressor(objective ='reg:squarederror', **grid.best_params_)\n",
    "xgb.fit(X,Y)\n",
    "Y_pred = xg_reg.predict(test_df)"
   ]
  },
  {
   "cell_type": "markdown",
   "metadata": {},
   "source": [
    "### Save results"
   ]
  },
  {
   "cell_type": "code",
   "execution_count": null,
   "metadata": {
    "collapsed": true
   },
   "outputs": [],
   "source": [
    "original_test_file = 'house-prices-advanced-regression-techniques/test.csv'\n",
    "original_test_df = pd.read_csv(original_test_file)\n",
    "id_col = original_test_df['Id']\n",
    "result_df = pd.concat([id_col, pd.DataFrame(Y_pred, columns=['SalePrice'])], axis=1)\n",
    "result_df.to_csv('XGBoost_rand_search_WO_PCA.csv', index=False)"
   ]
  },
  {
   "cell_type": "markdown",
   "metadata": {},
   "source": [
    "## Process Normalized Data With PCA"
   ]
  },
  {
   "cell_type": "markdown",
   "metadata": {},
   "source": [
    "### Load train and test data"
   ]
  },
  {
   "cell_type": "code",
   "execution_count": null,
   "metadata": {
    "collapsed": true
   },
   "outputs": [],
   "source": [
    "train_file = 'house-prices-advanced-regression-techniques/train_dim_reduced.csv'\n",
    "train_df = pd.read_csv(train_file)\n",
    "\n",
    "test_file = 'house-prices-advanced-regression-techniques/test_dim_reduced.csv'\n",
    "test_df = pd.read_csv(test_file)"
   ]
  },
  {
   "cell_type": "markdown",
   "metadata": {},
   "source": [
    "### Train model on the train data and predict the test data"
   ]
  },
  {
   "cell_type": "code",
   "execution_count": null,
   "metadata": {
    "collapsed": true
   },
   "outputs": [],
   "source": [
    "X = train_df.drop(['SalePrice'], axis=1)\n",
    "Y = train_df['SalePrice']\n",
    "xg_reg = XGBRegressor(objective ='reg:squarederror', colsample_bytree = 0.3, learning_rate = 0.1,\n",
    "                max_depth = 5, alpha = 10, n_estimators = 10)\n",
    "xg_reg.fit(X,Y)\n",
    "Y_pred = xg_reg.predict(test_df)\n",
    "print(Y_pred)\n",
    "print(Y_pred.shape)"
   ]
  },
  {
   "cell_type": "markdown",
   "metadata": {},
   "source": [
    "### Save results"
   ]
  },
  {
   "cell_type": "code",
   "execution_count": null,
   "metadata": {
    "collapsed": true
   },
   "outputs": [],
   "source": [
    "original_test_file = 'house-prices-advanced-regression-techniques/test.csv'\n",
    "original_test_df = pd.read_csv(original_test_file)\n",
    "id_col = original_test_df['Id']\n",
    "result_df = pd.concat([id_col, pd.DataFrame(Y_pred, columns=['SalePrice'])], axis=1)\n",
    "result_df.to_csv('XGBoost_reg_W_PCA.csv', index=False)"
   ]
  }
 ],
 "metadata": {
  "kernelspec": {
   "display_name": "Python 3",
   "language": "python",
   "name": "python3"
  },
  "language_info": {
   "codemirror_mode": {
    "name": "ipython",
    "version": 3
   },
   "file_extension": ".py",
   "mimetype": "text/x-python",
   "name": "python",
   "nbconvert_exporter": "python",
   "pygments_lexer": "ipython3",
   "version": "3.6.3"
  }
 },
 "nbformat": 4,
 "nbformat_minor": 2
}
