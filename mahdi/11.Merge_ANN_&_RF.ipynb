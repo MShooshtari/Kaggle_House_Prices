{
 "cells": [
  {
   "cell_type": "markdown",
   "metadata": {},
   "source": [
    "# 11. Merge Artificial Neural Network & Random Forest"
   ]
  },
  {
   "cell_type": "code",
   "execution_count": 1,
   "metadata": {
    "collapsed": true
   },
   "outputs": [],
   "source": [
    "import pandas as pd"
   ]
  },
  {
   "cell_type": "code",
   "execution_count": 22,
   "metadata": {},
   "outputs": [
    {
     "name": "stdout",
     "output_type": "stream",
     "text": [
      "0    116214.2\n",
      "1    146346.2\n",
      "2    186709.6\n",
      "3    192065.3\n",
      "4    179655.6\n",
      "dtype: float64\n"
     ]
    }
   ],
   "source": [
    "ann_file = 'Results/ANN_reg_WO_PCA.csv'\n",
    "rf_file = 'Results/RF_reg_WO_PCA.csv'\n",
    "\n",
    "ann_DF = pd.read_csv(ann_file)\n",
    "rf_DF = pd.read_csv(rf_file)\n",
    "\n",
    "ann_sale = ann_DF['SalePrice']\n",
    "rf_sale = rf_DF['SalePrice']\n",
    "\n",
    "output_sale = pd.concat([ann_sale, rf_sale], axis=1).mean(axis=1).round(1)\n",
    "output_ID = ann_DF['Id']\n",
    "\n",
    "print(output_sale.head())"
   ]
  },
  {
   "cell_type": "markdown",
   "metadata": {},
   "source": [
    "## Saving the results"
   ]
  },
  {
   "cell_type": "code",
   "execution_count": 23,
   "metadata": {},
   "outputs": [],
   "source": [
    "output_DF = pd.concat([output_ID, output_sale], axis=1)\n",
    "output_DF.columns = ['Id', 'SalePrice']\n",
    "output_DF.to_csv('ANN_&_RF_WO_PCA.csv', index=False)"
   ]
  },
  {
   "cell_type": "code",
   "execution_count": null,
   "metadata": {
    "collapsed": true
   },
   "outputs": [],
   "source": []
  }
 ],
 "metadata": {
  "kernelspec": {
   "display_name": "Python 3",
   "language": "python",
   "name": "python3"
  },
  "language_info": {
   "codemirror_mode": {
    "name": "ipython",
    "version": 3
   },
   "file_extension": ".py",
   "mimetype": "text/x-python",
   "name": "python",
   "nbconvert_exporter": "python",
   "pygments_lexer": "ipython3",
   "version": "3.6.3"
  }
 },
 "nbformat": 4,
 "nbformat_minor": 2
}
