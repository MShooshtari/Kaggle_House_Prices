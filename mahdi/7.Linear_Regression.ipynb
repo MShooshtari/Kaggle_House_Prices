{
 "cells": [
  {
   "cell_type": "markdown",
   "metadata": {},
   "source": [
    "# 7. Linear Regression"
   ]
  },
  {
   "cell_type": "code",
   "execution_count": 1,
   "metadata": {
    "collapsed": true
   },
   "outputs": [],
   "source": [
    "import numpy as np \n",
    "import matplotlib.pyplot as plt\n",
    "from scipy import stats\n",
    "import pandas as pd\n",
    "%matplotlib inline\n",
    "from sklearn.linear_model import LinearRegression"
   ]
  },
  {
   "cell_type": "markdown",
   "metadata": {},
   "source": [
    "## Process Normalized Data Without PCA"
   ]
  },
  {
   "cell_type": "markdown",
   "metadata": {},
   "source": [
    "### Load train and test data"
   ]
  },
  {
   "cell_type": "code",
   "execution_count": 2,
   "metadata": {},
   "outputs": [],
   "source": [
    "train_file = 'house-prices-advanced-regression-techniques/train_normalized.csv'\n",
    "train_df = pd.read_csv(train_file)\n",
    "\n",
    "test_file = 'house-prices-advanced-regression-techniques/test_normalized.csv'\n",
    "test_df = pd.read_csv(test_file)"
   ]
  },
  {
   "cell_type": "markdown",
   "metadata": {},
   "source": [
    "### Train model on the train data and predict the test data"
   ]
  },
  {
   "cell_type": "code",
   "execution_count": 3,
   "metadata": {},
   "outputs": [
    {
     "name": "stdout",
     "output_type": "stream",
     "text": [
      "[120235.26301367 173275.95955117 189756.07924074 ... 196140.28710611\n",
      " 115454.48482864 227579.52105256]\n",
      "(1459,)\n"
     ]
    }
   ],
   "source": [
    "X = train_df.drop(['SalePrice'], axis=1)\n",
    "Y = train_df['SalePrice']\n",
    "linear_regressor = LinearRegression()  # create object for the class\n",
    "linear_regressor.fit(X, Y)  # perform linear regression\n",
    "Y_pred = linear_regressor.predict(test_df)  # make predictions\n",
    "print(Y_pred)\n",
    "print(Y_pred.shape)"
   ]
  },
  {
   "cell_type": "markdown",
   "metadata": {},
   "source": [
    "### Save results"
   ]
  },
  {
   "cell_type": "code",
   "execution_count": 4,
   "metadata": {},
   "outputs": [],
   "source": [
    "original_test_file = 'house-prices-advanced-regression-techniques/test.csv'\n",
    "original_test_df = pd.read_csv(original_test_file)\n",
    "id_col = original_test_df['Id']\n",
    "result_df = pd.concat([id_col, pd.DataFrame(Y_pred, columns=['SalePrice'])], axis=1)\n",
    "result_df.to_csv('Lin_reg_WO_PCA.csv', index=False)"
   ]
  },
  {
   "cell_type": "markdown",
   "metadata": {},
   "source": [
    "## Process Normalized Data With PCA"
   ]
  },
  {
   "cell_type": "markdown",
   "metadata": {},
   "source": [
    "### Load train and test data"
   ]
  },
  {
   "cell_type": "code",
   "execution_count": 5,
   "metadata": {
    "collapsed": true
   },
   "outputs": [],
   "source": [
    "train_file = 'house-prices-advanced-regression-techniques/train_dim_reduced.csv'\n",
    "train_df = pd.read_csv(train_file)\n",
    "\n",
    "test_file = 'house-prices-advanced-regression-techniques/test_dim_reduced.csv'\n",
    "test_df = pd.read_csv(test_file)"
   ]
  },
  {
   "cell_type": "markdown",
   "metadata": {},
   "source": [
    "### Train model on the train data and predict the test data"
   ]
  },
  {
   "cell_type": "code",
   "execution_count": 6,
   "metadata": {},
   "outputs": [
    {
     "name": "stdout",
     "output_type": "stream",
     "text": [
      "[112689.83655631 168922.16954371 185539.91421768 ... 202106.19868627\n",
      " 114990.27924055 233333.38575497]\n",
      "(1459,)\n"
     ]
    }
   ],
   "source": [
    "X = train_df.drop(['SalePrice'], axis=1)\n",
    "Y = train_df['SalePrice']\n",
    "linear_regressor = LinearRegression()  # create object for the class\n",
    "linear_regressor.fit(X, Y)  # perform linear regression\n",
    "Y_pred = linear_regressor.predict(test_df)  # make predictions\n",
    "print(Y_pred)\n",
    "print(Y_pred.shape)"
   ]
  },
  {
   "cell_type": "markdown",
   "metadata": {},
   "source": [
    "### Save results"
   ]
  },
  {
   "cell_type": "code",
   "execution_count": 7,
   "metadata": {
    "collapsed": true
   },
   "outputs": [],
   "source": [
    "original_test_file = 'house-prices-advanced-regression-techniques/test.csv'\n",
    "original_test_df = pd.read_csv(original_test_file)\n",
    "id_col = original_test_df['Id']\n",
    "result_df = pd.concat([id_col, pd.DataFrame(Y_pred, columns=['SalePrice'])], axis=1)\n",
    "result_df.to_csv('Lin_reg_W_PCA.csv', index=False)"
   ]
  }
 ],
 "metadata": {
  "kernelspec": {
   "display_name": "Python 3",
   "language": "python",
   "name": "python3"
  },
  "language_info": {
   "codemirror_mode": {
    "name": "ipython",
    "version": 3
   },
   "file_extension": ".py",
   "mimetype": "text/x-python",
   "name": "python",
   "nbconvert_exporter": "python",
   "pygments_lexer": "ipython3",
   "version": "3.6.3"
  }
 },
 "nbformat": 4,
 "nbformat_minor": 2
}
