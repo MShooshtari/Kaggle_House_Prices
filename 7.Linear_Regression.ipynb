{
 "cells": [
  {
   "cell_type": "markdown",
   "metadata": {},
   "source": [
    "# 7. Linear Regression"
   ]
  },
  {
   "cell_type": "markdown",
   "metadata": {},
   "source": [
    "## Process Normalized Data Without PCA"
   ]
  },
  {
   "cell_type": "code",
   "execution_count": 1,
   "metadata": {
    "collapsed": true
   },
   "outputs": [],
   "source": [
    "import numpy as np \n",
    "import matplotlib.pyplot as plt\n",
    "from scipy import stats\n",
    "import pandas as pd\n",
    "%matplotlib inline"
   ]
  },
  {
   "cell_type": "markdown",
   "metadata": {},
   "source": [
    "### Load train and test data"
   ]
  },
  {
   "cell_type": "code",
   "execution_count": 2,
   "metadata": {},
   "outputs": [
    {
     "name": "stdout",
     "output_type": "stream",
     "text": [
      "   TotRmsAbvGrd  OpenPorchSF  MasVnrArea  OverallQual  1stFlrSF  HalfBath  \\\n",
      "0      1.094086     0.248951    0.600193     0.652759 -0.776823  1.271730   \n",
      "1     -0.267594    -0.724180   -0.591533    -0.076155  0.304044 -0.751629   \n",
      "2     -0.267594    -0.054155    0.393465     0.652759 -0.606440  1.271730   \n",
      "3      0.413246    -0.165826   -0.591533     0.652759 -0.497288 -0.751629   \n",
      "4      1.774926     0.615869    1.536549     1.381673 -0.007437  1.271730   \n",
      "\n",
      "    LotArea  GrLivArea  YearBuilt  2ndFlrSF  ...  Exterior2nd_2  \\\n",
      "0 -0.256880   0.498442   1.028105  1.266019  ...      -0.811709   \n",
      "1  0.003496  -0.469281   0.141363 -0.788496  ...      -0.811709   \n",
      "2  0.377080   0.662609   0.962420  1.294888  ...      -0.811709   \n",
      "3 -0.007824   0.513563  -1.862016  1.030255  ...      -0.811709   \n",
      "4  1.058586   1.552568   0.929578  1.744764  ...      -0.811709   \n",
      "\n",
      "   Exterior2nd_3  Exterior2nd_4  MasVnrType_2  MasVnrType_3  Foundation_2  \\\n",
      "0      -0.788706       0.927961     -1.487184      1.231968     -1.066022   \n",
      "1       1.267899      -1.077632      0.672412     -0.811709      0.938067   \n",
      "2      -0.788706       0.927961     -1.487184      1.231968     -1.066022   \n",
      "3       1.267899       0.927961      0.672412     -0.811709      0.938067   \n",
      "4      -0.788706       0.927961     -1.487184      1.231968     -1.066022   \n",
      "\n",
      "   Foundation_3  GarageType_2  GarageType_3  SalePrice  \n",
      "0      0.854560     -0.753837      0.651037     208500  \n",
      "1     -1.170193     -0.753837      0.651037     181500  \n",
      "2      0.854560     -0.753837      0.651037     223500  \n",
      "3      0.854560      1.326546     -1.536012     140000  \n",
      "4      0.854560     -0.753837      0.651037     250000  \n",
      "\n",
      "[5 rows x 62 columns]\n",
      "   TotRmsAbvGrd  OpenPorchSF  MasVnrArea  OverallQual  1stFlrSF  HalfBath  \\\n",
      "0     -0.948434    -0.724180   -0.591533    -0.805069 -0.670333 -0.751629   \n",
      "1     -0.267594    -0.149873    0.065132    -0.076155  0.482414  1.271730   \n",
      "2     -0.267594    -0.181779   -0.591533    -0.805069 -0.585142  1.271730   \n",
      "3      0.413246    -0.149873   -0.469928    -0.076155 -0.590466  1.271730   \n",
      "4     -0.948434     0.583963   -0.591533     1.381673  0.351965 -0.751629   \n",
      "\n",
      "    LotArea  GrLivArea  YearBuilt  2ndFlrSF  ...  Exterior1st_4  \\\n",
      "0  0.461306  -1.259876  -0.351271 -0.788496  ...       0.836534   \n",
      "1  1.060171  -0.324554  -0.449798 -0.788496  ...       0.836534   \n",
      "2  0.961228   0.323474   0.831051  0.897938  ...       0.836534   \n",
      "3  0.089081   0.269472   0.863894  0.842606  ...       0.836534   \n",
      "4 -1.036877  -0.430399   0.666840 -0.788496  ...      -1.195409   \n",
      "\n",
      "   Exterior2nd_2  Exterior2nd_3  Exterior2nd_4  MasVnrType_2  MasVnrType_3  \\\n",
      "0      -0.811709      -0.788706       0.927961      0.672412     -0.811709   \n",
      "1       1.231968       1.267899      -1.077632     -1.487184      1.231968   \n",
      "2      -0.811709      -0.788706       0.927961      0.672412     -0.811709   \n",
      "3      -0.811709      -0.788706       0.927961     -1.487184      1.231968   \n",
      "4       1.231968      -0.788706      -1.077632      0.672412     -0.811709   \n",
      "\n",
      "   Foundation_2  Foundation_3  GarageType_2  GarageType_3  \n",
      "0      0.938067     -1.170193     -0.753837      0.651037  \n",
      "1      0.938067     -1.170193     -0.753837      0.651037  \n",
      "2     -1.066022      0.854560     -0.753837      0.651037  \n",
      "3     -1.066022      0.854560     -0.753837      0.651037  \n",
      "4     -1.066022      0.854560     -0.753837      0.651037  \n",
      "\n",
      "[5 rows x 61 columns]\n"
     ]
    }
   ],
   "source": [
    "train_file = 'house-prices-advanced-regression-techniques/train_normalized.csv'\n",
    "train_df = pd.read_csv(train_file)\n",
    "\n",
    "test_file = 'house-prices-advanced-regression-techniques/test_normalized.csv'\n",
    "test_df = pd.read_csv(test_file)\n",
    "print(train_df.head())\n",
    "print(test_df.head())"
   ]
  },
  {
   "cell_type": "markdown",
   "metadata": {},
   "source": [
    "### Train model on the train data"
   ]
  },
  {
   "cell_type": "code",
   "execution_count": 3,
   "metadata": {},
   "outputs": [
    {
     "name": "stdout",
     "output_type": "stream",
     "text": [
      "[120235.26301367 173275.95955117 189756.07924074 ... 196140.2871061\n",
      " 115454.48482864 227579.52105256]\n",
      "(1459,)\n"
     ]
    }
   ],
   "source": [
    "from sklearn.linear_model import LinearRegression\n",
    "X = train_df.drop(['SalePrice'], axis=1)\n",
    "Y = train_df['SalePrice']\n",
    "linear_regressor = LinearRegression()  # create object for the class\n",
    "linear_regressor.fit(X, Y)  # perform linear regression\n",
    "Y_pred = linear_regressor.predict(test_df)  # make predictions\n",
    "print(Y_pred)\n",
    "print(Y_pred.shape)"
   ]
  },
  {
   "cell_type": "markdown",
   "metadata": {},
   "source": [
    "### Save results"
   ]
  },
  {
   "cell_type": "code",
   "execution_count": 6,
   "metadata": {},
   "outputs": [],
   "source": [
    "original_test_file = 'house-prices-advanced-regression-techniques/test.csv'\n",
    "original_test_df = pd.read_csv(original_test_file)\n",
    "id_col = original_test_df['Id']\n",
    "result_df = pd.concat([id_col, pd.DataFrame(Y_pred, columns=['SalePrice'])], axis=1)\n",
    "result_df.to_csv('Lin_reg_WO_PCA.csv', index=False)"
   ]
  },
  {
   "cell_type": "code",
   "execution_count": null,
   "metadata": {
    "collapsed": true
   },
   "outputs": [],
   "source": []
  }
 ],
 "metadata": {
  "kernelspec": {
   "display_name": "Python 3",
   "language": "python",
   "name": "python3"
  },
  "language_info": {
   "codemirror_mode": {
    "name": "ipython",
    "version": 3
   },
   "file_extension": ".py",
   "mimetype": "text/x-python",
   "name": "python",
   "nbconvert_exporter": "python",
   "pygments_lexer": "ipython3",
   "version": "3.6.3"
  }
 },
 "nbformat": 4,
 "nbformat_minor": 2
}
